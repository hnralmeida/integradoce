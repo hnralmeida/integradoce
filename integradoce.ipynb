{
 "cells": [
  {
   "cell_type": "code",
   "execution_count": 1,
   "id": "70dd5596",
   "metadata": {},
   "outputs": [
    {
     "name": "stdout",
     "output_type": "stream",
     "text": [
      "\n",
      "< http://purl.org/nemo/doce#RioDoce >, < http://www.w3.org/1999/02/22-rdf-syntax-ns#type >, < http://purl.org/nemo/doce#River >\n",
      "\n"
     ]
    }
   ],
   "source": [
    "from rdflib import Namespace, Graph\n",
    "from rdflib.namespace import RDF\n",
    "\n",
    "g = Graph()\n",
    "onto = g.parse(\"https://raw.githubusercontent.com/nemo-ufes/doce/master/doce.ttl\", format=\"ttl\");\n",
    "\n",
    "#Criando Namespace\n",
    "DOCE = Namespace(\"http://purl.org/nemo/doce#\")\n",
    "\n",
    "#Relações em que o sujeito é um River\n",
    "for s, p, o in g.triples((None, RDF.type, DOCE.River)):\n",
    "    print(f\"\\n< {s} >, < {p} >, < {o} >\\n\")\n"
   ]
  },
  {
   "cell_type": "code",
   "execution_count": 7,
   "id": "abc9633e",
   "metadata": {},
   "outputs": [
    {
     "name": "stdout",
     "output_type": "stream",
     "text": [
      "4\n",
      "4\n"
     ]
    },
    {
     "data": {
      "text/plain": [
       "<Graph identifier=Na8affccbf7bc4510a6d53a60b8a8c648 (<class 'rdflib.graph.Graph'>)>"
      ]
     },
     "execution_count": 7,
     "metadata": {},
     "output_type": "execute_result"
    }
   ],
   "source": [
    "from rdflib import Graph, Literal, RDF, URIRef, RDFS, Namespace\n",
    "\n",
    "# criar grafo e carregar repositório de dados\n",
    "exampleTriple = Graph()\n",
    "exampleTriple.parse(\"example.ttl\", format=\"ttl\")\n",
    "\n",
    "#Criando Namespace\n",
    "doceTriple = Graph()\n",
    "doceTriple.parse(\"http://purl.org/nemo/doce#\", format=\"ttl\")\n",
    "doce = URIRef(\"http://purl.org/nemo/doce#\")\n",
    "DOCE = Namespace(doce)\n",
    "\n",
    "# criar arquivo\n",
    "savedTriple = Graph()\n",
    "geo = Graph()\n",
    "\n",
    "# criar uma tripla com os pontos geográficos\n",
    "# e salvar em um arquivo turtle\n",
    "savedTriple += exampleTriple.triples((None, None, DOCE.GeographicPoint))\n",
    "\n",
    "for s1, p1, o1 in savedTriple:\n",
    "    for s2, p2, o2 in exampleTriple.triples((s1, None, None)):\n",
    "        if str(p2) == str(RDFS.label) :\n",
    "            geo.add((s2, p2, o2))\n",
    "            \n",
    "print(len(savedTriple))\n",
    "print(len(geo))\n",
    "geo.serialize(destination=\"GeographicPoint.ttl\")"
   ]
  },
  {
   "cell_type": "code",
   "execution_count": 9,
   "id": "90f942c8",
   "metadata": {},
   "outputs": [
    {
     "name": "stdout",
     "output_type": "stream",
     "text": [
      "Achei o ponto geografico Acaiaca - Carmo 01\n",
      "Balalaica não é a ponto geografico buscado\n",
      "Gibraltar não é a ponto geografico buscado\n",
      "Filíspolis não é a ponto geografico buscado\n"
     ]
    }
   ],
   "source": [
    "from rdflib import Graph, Literal, RDF, RDFS, URIRef, OWL, Namespace\n",
    "\n",
    "# criar grafo e carregar\n",
    "exampleTriple = Graph()\n",
    "exampleTriple.parse(\"example.ttl\", format = \"ttl\")\n",
    "\n",
    "# criar os namespace\n",
    "doce = URIRef(\"http://purl.org/nemo/doce#\")\n",
    "DOCE = Namespace(doce)\n",
    "doceExample = URIRef(\"http://purl.org/nemo/examples/doceexample#\")\n",
    "DOCEEX = Namespace(doceExample)\n",
    "\n",
    "# Procurar por uma cidade através do label\n",
    "search = \"Acaiaca - Carmo 01\"\n",
    "for s1, p1, o1 in exampleTriple.triples((None, RDFS.label, None)):\n",
    "    if str(o1) == search :\n",
    "        print(f\"Achei o ponto geografico {o1}\")\n",
    "    else:\n",
    "        print(f\"{o1} não é a ponto geografico buscado\")"
   ]
  },
  {
   "cell_type": "code",
   "execution_count": 15,
   "id": "a66e7b1c",
   "metadata": {},
   "outputs": [
    {
     "name": "stdout",
     "output_type": "stream",
     "text": [
      "Localizações:\n",
      "_________________________________\n",
      "\n",
      "identificação: Acaiaca - Carmo 01\n",
      "Ponto de Coleta: Acaiaca - Carmo 01\n",
      "_________________________________\n",
      "\n",
      "identificação: Balalaica\n",
      "Ponto de Coleta: Balalaica\n",
      "_________________________________\n",
      "\n",
      "identificação: Gibraltar\n",
      "Ponto de Coleta: Gibraltar\n",
      "_________________________________\n",
      "\n",
      "identificação: Filíspolis\n",
      "Ponto de Coleta: Filíspolis\n",
      "_________________________________\n",
      "Digite a cidade: Gibraltar\n",
      "Cidade: Gibraltar\n",
      "Casa de número 101, não afetada pelo Rio Doce.\n",
      "Localização: -42.3571, -70.1127\n",
      "\n"
     ]
    }
   ],
   "source": [
    "from rdflib import Graph, Literal, RDF, RDFS, URIRef, OWL, Namespace\n",
    "\n",
    "# criar grafo e carregar\n",
    "exampleTriple = Graph()\n",
    "exampleTriple.parse(\"example.ttl\", format = \"ttl\")\n",
    "\n",
    "# criar os namespace\n",
    "doce = URIRef(\"http://purl.org/nemo/doce#\")\n",
    "DOCE = Namespace(doce)\n",
    "doceExample = URIRef(\"http://purl.org/nemo/examples/doceexample#\")\n",
    "DOCEEX = Namespace(doceExample)\n",
    "\n",
    "# listar identificação dos pontos de coleta e em seguida inserir\n",
    "# ponto a ser pesquisado, exatamente como rotulado\n",
    "print(\"Localizações:\")\n",
    "for s1, p1, o1 in exampleTriple.triples((None, None, DOCE.GeographicPoint)) :\n",
    "    print(\"_________________________________\")\n",
    "    for s2, p2, o2 in exampleTriple.triples((s1, RDFS.label, None)):\n",
    "        labelP = str(o2)\n",
    "    PointP = str(o2)\n",
    "    PointP = PointP.replace(str(DOCEEX),\"\")\n",
    "    print(f\"\\nidentificação: {labelP}\\nPonto de Coleta: {PointP}\")\n",
    "    \n",
    "print(\"_________________________________\")\n",
    "search= input(\"Digite a cidade: \")\n",
    "    \n",
    "# procurar cidade de acordo com sua identificação\n",
    "\n",
    "for s1, p1, o1 in exampleTriple.triples((None, RDFS.label, None)):\n",
    "    if str(o1) == search :\n",
    "        print(f\"Cidade: {o1}\")\n",
    "        for s2, p2, o2 in exampleTriple.triples((s1, None, None)):\n",
    "            if p2 == RDFS.comment :\n",
    "                com = o2\n",
    "            if p2 == DOCE.hasLatitude :\n",
    "                lat = o2\n",
    "            if p2 == DOCE.hasLongitude :\n",
    "                lon = o2\n",
    "                \n",
    "        print(f\"{com}\\nLocalização: {lat}, {lon}\\n\")"
   ]
  },
  {
   "cell_type": "code",
   "execution_count": 15,
   "id": "1b5bc1b6",
   "metadata": {},
   "outputs": [
    {
     "name": "stdout",
     "output_type": "stream",
     "text": [
      "Localizações: \n",
      "____________________________________________\n",
      "\n",
      "Identificação: Acaiaca - Carmo 01\n",
      "Ponto de Coleta: -20.3471, -43.1127\n",
      "____________________________________________\n",
      "\n",
      "Identificação: Balalaica\n",
      "Ponto de Coleta: -30.3471, -94.1127\n",
      "____________________________________________\n",
      "\n",
      "Identificação: Gibraltar\n",
      "Ponto de Coleta: -42.3571, -70.1127\n",
      "____________________________________________\n",
      "\n",
      "Identificação: Filíspolis\n",
      "Ponto de Coleta: -97.3571, -30.1127\n",
      "____________________________________________\n",
      "Digite a cidade: Acaiaca - Carmo 01\n",
      "\n",
      "Cidade: Acaiaca - Carmo 01\n",
      "\n",
      "AMOSTRAS\n",
      "01: WaterSampling314020-2017-1\n",
      "\n",
      "Ponte férrea sobre o rio do Carmo, em Acaiaca (MG). Não atingido pelo rejeito. Área de pastagem.\n",
      "Localização: -20.3471, -43.1127\n",
      "\n"
     ]
    }
   ],
   "source": [
    "from rdflib import Graph, Literal, RDF, RDFS, URIRef, OWL, Namespace\n",
    "# criar e carregar grafos\n",
    "exampleTriple = Graph()\n",
    "exampleTriple.parse(\"example.ttl\", format = \"ttl\")\n",
    "\n",
    "# criar os namespace\n",
    "doce = URIRef(\"http://purl.org/nemo/doce#\")\n",
    "DOCE = Namespace(doce)\n",
    "doceExample = URIRef(\"http://purl.org/nemo/examples/doceexample#\")\n",
    "DOCEEX = Namespace(doceExample)\n",
    "\n",
    "# testar identificação dos pontos de coleta e em seguida inserir\n",
    "# ponto a ser pesquisada, exaramente como rotulada\n",
    "print(\"Localizações: \")\n",
    "for s1, p1, o1 in exampleTriple.triples((None, None, DOCE.GeographicPoint)) :\n",
    "    print(\"____________________________________________\")\n",
    "    for s2, p2, o2 in exampleTriple.triples((s1, RDFS.label, None)) :\n",
    "        labelP = str(o2)\n",
    "    for s2, p2, o2 in exampleTriple.triples((s1, DOCE.hasLatitude, None)) :\n",
    "        lat = o2\n",
    "    for s2, p2, o2 in exampleTriple.triples((s1, DOCE.hasLongitude, None)) : \n",
    "        lon = o2\n",
    "    print(f\"\\nIdentificação: {labelP}\\nPonto de Coleta: {lat}, {lon}\")\n",
    "          \n",
    "print(\"____________________________________________\")\n",
    "search = str(input(\"Digite a cidade: \"))\n",
    "                   \n",
    "# procurar cidode de acordo com sua idetificação\n",
    "flag = 1\n",
    "for s1, p1, o1 in exampleTriple.triples((None, RDFS.label, None)) :\n",
    "    if str(o1) == search :\n",
    "        print(f\"\\nCidade: {o1}\")\n",
    "        flag = 0\n",
    "        for s2, p2, o2 in exampleTriple.triples((s1, None, None)) :\n",
    "            if p2 == RDFS.comment :\n",
    "                com = o2\n",
    "            if p2 == DOCE.hasLatitude :\n",
    "                lat = o2\n",
    "            if p2 == DOCE.hasLongitude :\n",
    "                lon = o2\n",
    "        print(\"\\nAMOSTRAS\")\n",
    "        for s2, p2, o2 in exampleTriple.triples((None, DOCE.locatedIn, s1)) :\n",
    "            i = 1\n",
    "            for s3, p3, o2 in exampleTriple.triples((s2, RDF.type, DOCE.Sampling)) :\n",
    "                samp = str(s3)\n",
    "                samp = samp.replace(str(DOCEEX),\"\")\n",
    "                print(f\"0{i}: {samp}\")\n",
    "                i=i+1\n",
    "        print(f\"\\n{com}\\nLocalização: {lat}, {lon}\\n\")\n",
    "        \n",
    "if flag :\n",
    "    print(\"\\nNão foram encontrados resultados\")\n"
   ]
  }
 ],
 "metadata": {
  "kernelspec": {
   "display_name": "Python 3 (ipykernel)",
   "language": "python",
   "name": "python3"
  },
  "language_info": {
   "codemirror_mode": {
    "name": "ipython",
    "version": 3
   },
   "file_extension": ".py",
   "mimetype": "text/x-python",
   "name": "python",
   "nbconvert_exporter": "python",
   "pygments_lexer": "ipython3",
   "version": "3.10.3"
  }
 },
 "nbformat": 4,
 "nbformat_minor": 5
}
