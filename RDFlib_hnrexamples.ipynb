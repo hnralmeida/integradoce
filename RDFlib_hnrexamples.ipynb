{
 "cells": [
  {
   "cell_type": "markdown",
   "metadata": {
    "id": "nIseFt0H2fYK"
   },
   "source": [
    "## RDFLib"
   ]
  },
  {
   "cell_type": "code",
   "execution_count": null,
   "metadata": {
    "id": "R1i3mpDpEGUg"
   },
   "outputs": [],
   "source": [
    "from rdflib.namespace import FOAF, RDF\n",
    "\n",
    "g = Graph()\n",
    "\n",
    "# Create an RDF URI node to use as the subject for multiple triples\n",
    "donna = URIRef(\"http://example.org/donna\")\n",
    "\n",
    "# Add triples using store's add() method.\n",
    "g.add((donna, RDF.type, FOAF.Person))\n",
    "g.add((donna, FOAF.nick, Literal(\"donna\", lang=\"en\")))\n",
    "g.add((donna, FOAF.name, Literal(\"Donna Fales\")))\n",
    "g.add((donna, FOAF.mbox, URIRef(\"mailto:donna@example.org\")))\n",
    "\n",
    "# Add more demo data\n",
    "bob = URIRef(\"http://example.org/people/Bob\")\n",
    "g.add((bob, RDF.type, FOAF.Person))\n",
    "g.add((bob, FOAF.name, Literal(\"Bob\")))\n",
    "g.add((bob, FOAF.age, Literal(38)))\n",
    "\n",
    "# To get a single value, use 'value'\n",
    "print(g.value(bob, FOAF.age))\n",
    "# prints: 38\n",
    "\n",
    "# To change a single of value, use 'set'\n",
    "g.set((bob, FOAF.age, Literal(39)))\n",
    "print(g.value(bob, FOAF.age))\n",
    "# prints: 39\n",
    "\n",
    "#namespace\n",
    "print(g.serialize(format=\"ttl\"))"
   ]
  },
  {
   "cell_type": "code",
   "execution_count": null,
   "metadata": {
    "colab": {
     "base_uri": "https://localhost:8080/",
     "height": 213
    },
    "id": "tC_0e58gyhnJ",
    "outputId": "cf9f0446-8026-4693-e99d-e9d727d0a5e3"
   },
   "outputs": [],
   "source": [
    "from rdflib.namespace import FOAF, RDF, OWL\n",
    "import io\n",
    "import pydotplus\n",
    "from IPython.display import display, Image\n",
    "from rdflib.tools.rdf2dot import rdf2dot\n",
    "\n",
    "g = Graph()\n",
    "doce = g.parse(\"https://raw.githubusercontent.com/nemo-ufes/doce/master/doce.ttl\", format=\"ttl\");\n",
    "\n",
    "\n",
    "#Criando Vizualização\n",
    "h = Graph()\n",
    "aux = URIRef(\"http://purl.org/nemo/doce#Agent\")\n",
    "\n",
    "h += g.triples((None, None, aux));\n",
    "\n",
    "def visualize(h):\n",
    "    stream = io.StringIO()\n",
    "    rdf2dot(h, stream, opts = {display})\n",
    "    dg = pydotplus.graph_from_dot_data(stream.getvalue())\n",
    "    png = dg.create_png()\n",
    "    display(Image(png))\n",
    "\n",
    "visualize(h)\n"
   ]
  },
  {
   "cell_type": "markdown",
   "metadata": {
    "id": "rfK3Ge242XFZ"
   },
   "source": [
    "## Trabalhando Namespace Doce"
   ]
  },
  {
   "cell_type": "code",
   "execution_count": 7,
   "metadata": {
    "colab": {
     "base_uri": "https://localhost:8080/",
     "height": 237
    },
    "id": "QRvvtGXg8ySI",
    "outputId": "9f5014ce-0752-42a2-e0b5-cfdb04b8df89",
    "tags": [
     "Imprimir"
    ]
   },
   "outputs": [
    {
     "name": "stdout",
     "output_type": "stream",
     "text": [
      "\n",
      "Sujeito: http://example.org/donna\n",
      "Predicado: http://www.w3.org/1999/02/22-rdf-syntax-ns#type\n",
      "Obejto: http://xmlns.com/foaf/0.1/Person\n",
      "--------------------------------\n"
     ]
    }
   ],
   "source": [
    "# processamento da biblioteca de ontologias\n",
    "from rdflib import Graph, Literal, RDF, URIRef, BNode\n",
    "\n",
    "doceTriple = Graph()\n",
    "\n",
    "doceResult = doceTriple.parse(\"http://purl.org/nemo/doce\", format=\"ttl\")\n",
    "\n",
    "DOCE = URIRef(\"http://purl.org/nemo/doce#\")\n",
    "\n",
    "for s, p, o in doceResult.triples((None, RDF.type, None)):\n",
    "  print(f\"\\nSujeito: {s}\\nPredicado: {p}\\nObjeto: {o}\\n--------------------------------\")"
   ]
  },
  {
   "cell_type": "code",
   "execution_count": 19,
   "metadata": {
    "colab": {
     "base_uri": "https://localhost:8080/"
    },
    "id": "4-fpAUiEIAjQ",
    "outputId": "d7d66c8f-29ee-4d9f-ed76-fa6dba1db8f5",
    "tags": [
     "Salvar",
     "Arquivos"
    ]
   },
   "outputs": [
    {
     "name": "stdout",
     "output_type": "stream",
     "text": [
      "Fim\n"
     ]
    }
   ],
   "source": [
    "# processamento da biblioteca de ontologias\n",
    "from rdflib import Graph, Literal, RDF, URIRef, OWL\n",
    "\n",
    "# carregamento da ontologia\n",
    "doceTriple = Graph()\n",
    "doceTriple.parse(\"http://purl.org/nemo/doce\", format=\"ttl\")\n",
    "\n",
    "# criar sub tripla de classes\n",
    "saveTriple = Graph()\n",
    "savedTriple += doceTriple.triples((None, None, OWL.Class))\n",
    "\n",
    "#Armazenar sub tripla \n",
    "savedTriple.serialize(destination=\"docetypes.ttl\")"
   ]
  },
  {
   "cell_type": "code",
   "execution_count": 34,
   "metadata": {},
   "outputs": [
    {
     "name": "stdout",
     "output_type": "stream",
     "text": [
      "S: http://purl.org/nemo/examples/doceexample#RCA-04\n",
      "S: http://purl.org/nemo/examples/doceexample#RCA-01\n",
      "S: http://purl.org/nemo/examples/doceexample#RCA-02\n",
      "S: http://purl.org/nemo/examples/doceexample#RCA-03\n",
      "4\n",
      "0\n"
     ]
    },
    {
     "data": {
      "text/plain": [
       "<Graph identifier=N3f1067627e3149149f1d6c965d8192a3 (<class 'rdflib.graph.Graph'>)>"
      ]
     },
     "execution_count": 34,
     "metadata": {},
     "output_type": "execute_result"
    }
   ],
   "source": [
    "from rdflib import Graph, Literal, RDF, URIRef, OWL\n",
    "\n",
    "# criar grafo e carregar repositório de dados\n",
    "exampleTriple = Graph()\n",
    "exampleTriple.parse(\"example.ttl\", format=\"ttl\")\n",
    "\n",
    "#Criando Namespace\n",
    "doceTriple = Graph()\n",
    "doceTriple.parse(\"http://purl.org/nemo/doce#\", format=\"ttl\")\n",
    "doce = URIRef(\"http://purl.org/nemo/doce#\")\n",
    "DOCE = Namespace(doce)\n",
    "\n",
    "# criar arquivo\n",
    "savedTriple = Graph()\n",
    "geo = Graph()\n",
    "\n",
    "# criar uma tripla com os pontos geográficos\n",
    "# e salvar em um arquivo turtle\n",
    "savedTriple += exampleTriple.triples((None, None, DOCE.GeographicPoint))\n",
    "\n",
    "for s1, p1, o1 in savedTriple :\n",
    "    for s2, p2, o2 in savedTriple.triples((s1, None, None)):\n",
    "        print(f\"S: {s1}\")\n",
    "        if str(p2) == str(RDFS.label) :\n",
    "            print(f\"Label: {p2}\")\n",
    "            geo.add((s2, p2, o2))\n",
    "            \n",
    "print(len(savedTriple))\n",
    "print(len(geo))\n",
    "geo.serialize(destination=\"GeographicPoint.ttl\")"
   ]
  },
  {
   "cell_type": "code",
   "execution_count": 22,
   "metadata": {},
   "outputs": [
    {
     "name": "stdout",
     "output_type": "stream",
     "text": [
      "\n",
      "Cidade: Filíspolis\n",
      "Vilarejo dos indígenas, afetado pelo Rio Doce.\n",
      "Localização: -97.3571, -30.1127\n",
      "\n"
     ]
    }
   ],
   "source": [
    "from rdflib import Graph, Literal, RDF, RDFS, URIRef, OWL, Namespace\n",
    "\n",
    "# criar e carregar grafos\n",
    "exampleTriple = Graph()\n",
    "exampleTriple.parse(\"example.ttl\", format = \"ttl\")\n",
    "\n",
    "# criar namespace\n",
    "doce = URIRef(\"http://purl.org/nemo/doce#\")\n",
    "DOCE = Namespace(doce)\n",
    "doceExample = URIRef(\"http://purl.org/nemo/examples/doceexample#\")\n",
    "DOCEEX = Namespace(doceExample)\n",
    "\n",
    "# cidade a ser pesquisada, exatamente como rotulada\n",
    "# search = str(input(\"Digite a cidade: \"))\n",
    "search = \"Filíspolis\"\n",
    "\n",
    "# procurar cidade de acordo com seu rótulo\n",
    "for s1, p1, o1 in exampleTriple.triples((None, RDFS.label, None)):\n",
    "    if str(o1) == search  :\n",
    "        print(f\"\\nCidade: {o1}\")\n",
    "        for s2, p2, o2 in exampleTriple.triples((s1, None, None)):\n",
    "            if p2 == RDFS.comment :\n",
    "                com = o2\n",
    "            if p2 == DOCE.hasLatitude :\n",
    "                lat = o2\n",
    "            if p2 == DOCE.hasLongitude :\n",
    "                lon = o2\n",
    "        \n",
    "        print(f\"{com}\\nLocalização: {lat}, {lon}\\n\")"
   ]
  },
  {
   "cell_type": "code",
   "execution_count": null,
   "metadata": {},
   "outputs": [],
   "source": []
  }
 ],
 "metadata": {
  "celltoolbar": "Tags",
  "colab": {
   "collapsed_sections": [],
   "name": "RDFlib_hnrexamples.ipynb",
   "provenance": [],
   "toc_visible": true
  },
  "kernelspec": {
   "display_name": "Python 3 (ipykernel)",
   "language": "python",
   "name": "python3"
  },
  "language_info": {
   "codemirror_mode": {
    "name": "ipython",
    "version": 3
   },
   "file_extension": ".py",
   "mimetype": "text/x-python",
   "name": "python",
   "nbconvert_exporter": "python",
   "pygments_lexer": "ipython3",
   "version": "3.10.3"
  }
 },
 "nbformat": 4,
 "nbformat_minor": 1
}
