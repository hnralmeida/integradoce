{
  "cells": [
    {
      "cell_type": "markdown",
      "metadata": {
        "id": "5NQhM0Q5YHYQ"
      },
      "source": [
        "# 1 - O Projeto"
      ]
    },
    {
      "cell_type": "markdown",
      "metadata": {
        "id": "3X_ls-gHYAfw"
      },
      "source": [
        "Este projeto objetiva facilitar o acesso e a manipulação de uma base de dados sobre qualidade da água do Rio Doce, atingido pelo desastre da Barragem de Mariana-MG. Portanto, este é um subprojeto do projeto Integradoce.\n",
        "Os objetivos específicos deste projeto são:\n",
        "a) oferecer a linguagem Python (e suas blibliotecas) como alternativa ao uso se SPARQL;\n",
        "b) oferecer funções pré-definidas com o propósito de facilitar a realizações de pesquisas na base de dados;\n",
        "c) oferecer pequenos trechos de códigos-fontes a fim de diminuir a curva de aprendizado e de adaptação à manipulação da base de dados.\n",
        "d) oferecer o conteúdo, na forma de um passo a passo, para que usuários interessados em usar a base de dados possam fazê-lo, por si mesmos;\n",
        "A equipe deste projeto é formada pelos seguintes integrantes:\n",
        "- Henrique de Almeida Oliveira (Ifes – Campus Colatina)\n",
        "- Luiz Eduardo Marchiori (Ifes – Campus Colatina)\n",
        "- Julio Cesar Nardi Nardi (Ifes – Campus Colatina)\n",
        "- Victorio Albani de Carvalho (Ifes – Campus Colatina)\n",
        "- João Paulo A. Almeida (Ufes – Campus Goiabeiras)\n",
        "\n",
        "Contato do projeto:\n",
        "- Acesse: https://nemo.inf.ufes.br/projetos/integradoce/\n"
      ]
    },
    {
      "cell_type": "markdown",
      "metadata": {
        "id": "LtAMYIeAX9no"
      },
      "source": [
        "# 2 - Tecnologias Utilizadas"
      ]
    },
    {
      "cell_type": "markdown",
      "metadata": {
        "id": "PyAazo-_X9np"
      },
      "source": [
        "O RDFLib é um pacote Python de código aberto para tratamento de triplas RDF (Resource Description Framework) utilizado durante todo o trabalho. Ele contém a maioria das funções necessárias para trabalhar com RDF como, por exemplo: analisadores e serializadores para RDF/XML, N3, NTriples, N-Quads, Turtle, TriX, Trig e JSON-LD.\n",
        "Uma interface gráfica pode ser gerada pelo RDFLib, ela pode armazenar implementações para endpoints SPARQL na memória, também suporta consultas SPARQL 1.1 e instruções de atualização de mecanismos de extensão da função SPARQL.\n",
        "Para a instalação do RDFLib é necessário importar a biblioteca pelo PIP (Package Installer for Python), o instalador de pacotes do Python. Um passo a passo da instalação do pacote pode ser consultado na documentação do RDFLib 6.1.1 em Getting started with RDFLib.\n",
        "Para implementação deste guia, usamos o Jupyter Notebook. Para execução do mesmo sem necessidade de instalação é possível acessar o mybinder.org, disponibilizado gratuitamente.\n",
        "RDF (Resource Description Framework) é uma linguagem de descrição para troca de dados pela Web. A estrutura criada por meio do uso de RDF é um grafo direcionado composto de triplas: (i) um nó para o sujeito, (ii) um arco/aresta que liga o sujeito a um objeto (predicado), e (iii) um nó objeto. Cada um desses elementos pode ser identificado por uma URI. A Figura 1 ilustra a estrutura dessa tripla.\n",
        "\n",
        "                                       Figura 1\n",
        "\n",
        "\n",
        "![image.png](data:image/png;base64,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)\n",
        "\n",
        "\n",
        "RDF provê uma variedade de notações e formatos de serialização de dados. Uma das notações mais utilizadas atualmente é a Turtle (Terse RDF Triple Language). Turtle provê uma maneira de agrupar os elementos de uma tripla e provê maneiras de abreviar/simplificar tal informação. A Figura 2 apresenta um trecho de código de um arquivo Turtle. Nesse trecho, podemos notar a estrutura da tripla Mark-Twain → author → Huckleberry_Finn.\n",
        "\n",
        "\n",
        "                                       Figura 2\n",
        "\n",
        "![image.png](data:image/png;base64,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)\n",
        "\n"
      ]
    },
    {
      "cell_type": "markdown",
      "metadata": {
        "id": "mLLu6bu2ZKP1"
      },
      "source": [
        "# 3 - A Ontologia Usada"
      ]
    },
    {
      "cell_type": "markdown",
      "metadata": {
        "id": "-EvKcJfzZMGN"
      },
      "source": [
        "<p>Antes de mostrar como obter dados filtrados com o módulo python rdflib precisa-se entender minimamente como funciona a ontologia Integra Doce. O arquivo transformed_integrado.ttl é o arquivo original do projeto, nele contém todas as informações sobre o Rio Doce. O arquivo example.ttl é um arquivo menor do transformed_integrado para que possa realizar testes e etc... (o arquivo original é muito grande, não tem como realizar testes usando-o). O arquivo de exemplo está disponível no GitHub do projeto e o transformed_integrado ainda não foi postado, pois, está em modificações. \n",
        "Levamos em conta no projeto amostras insitu, isto é, medições coletadas no local e medidas por ensaio ou aparelhos.</p>\n",
        "<p>O diagrama a seguir apresenta a ontologia Integra Doce de modo simplificado, observe que o diagrama leva em conta a herança, que entretanto não é possível fazer diretamente no rdflib. Desse modo, um doce:Agent que é um  gufo:Object herda desse último a função de sujeito em doce:participatedIn, onde o objeto dessa relação é um gufo:Event. Um doce:Measurement é doce:ResearchActivity, que por sua vez é um gufo:Event, então ele herda essa relação como objeto. </p>\n",
        "\n",
        "<img src=\"Diagrama Insitu.jpeg\">\n",
        "\n",
        "---\n",
        "  Figura 1: Diagrama de relações de medições Insitu\n",
        "\n",
        "---\n",
        "\n",
        "<p>Na Figura 1 apresentada mostramos o exemplo citado no último parágrafo, além de toda relações na ontologia. Ele foi utilizado para guiar a criação dos filtros, além de analisar as relações que existem no próprio arquivo de instância. No arquivo de instância da ontologia podemos observar também o que foi dito e exposto na figura.\n"
      ]
    },
    {
      "cell_type": "markdown",
      "metadata": {
        "id": "772dfQpNHGt4"
      },
      "source": [
        "# 4 - **Usando a RDFLib**"
      ]
    },
    {
      "cell_type": "markdown",
      "metadata": {
        "id": "-iuGz1TlHGt4"
      },
      "source": [
        "<p> É possível obter suporte para a biblioteca no <a href=\"https://rdflib.readthedocs.io/en/stable/index.html\">site da RDFLib</a>, contando com diversos tutoriais em inglês. Esse tutorial foi elaborado com base nesse guia e também criado de acordo com a necessidade de pesquisa da ontologia."
      ]
    },
    {
      "cell_type": "markdown",
      "metadata": {
        "id": "0s0oUaATcEt3"
      },
      "source": [
        "# 4.1 - **Inicializando a Ontologia**"
      ]
    },
    {
      "cell_type": "markdown",
      "metadata": {
        "id": "NlkCzjbrHGt9"
      },
      "source": [
        "<p> O formato básico dos dados na RDFlib é um grafo não ordenado formado por triplas RDF, desse modo eles podem pesquisar \n",
        "por informações estruturadas nessas triplas e retorná-las. Em linguagem Python elas são tuplas de 3 itens, ou nós. \n",
        "Um exemplo de inicialização de uma Ontologia é apresentado no código 1, onde cria-se os dados de uma entidade com base \n",
        "na Ontologia FOAF, disponível online. </p>"
      ]
    },
    {
      "cell_type": "markdown",
      "metadata": {
        "id": "Bx5ag3JAwRkq"
      },
      "source": [
        "---\n",
        " Código 1: Método de Inicialização Manual de uma Ontologia\n",
        " \n",
        "---"
      ]
    },
    {
      "cell_type": "code",
      "execution_count": null,
      "metadata": {
        "id": "T2W2v2YMvpd_"
      },
      "outputs": [],
      "source": [
        "from rdflib import Graph, Literal, RDF, URIRef\n",
        "# rdflib possui nativamente diversos namespace como W3C ontologies, schema.org e etc.\n",
        "from rdflib.namespace import FOAF , XSD\n",
        "\n",
        "# Criando o Grafo\n",
        "g = Graph()\n",
        "\n",
        "# Criando o nó a partir de URI que será usado para objeto de diversas triplas\n",
        "donna = URIRef(\"http://example.org/donna\")\n",
        "\n",
        "# Utilizando o método add() para adicionar as triplas\n",
        "g.add((donna, RDF.type, FOAF.Person))\n",
        "g.add((donna, FOAF.nick, Literal(\"donna\", lang=\"en\")))\n",
        "g.add((donna, FOAF.name, Literal(\"Donna Fales\")))\n",
        "g.add((donna, FOAF.mbox, URIRef(\"mailto:donna@example.org\")))\n",
        "\n",
        "# Alternativamente, é possível iterar as triplas e imprimi-las.\n",
        "for s, p, o in g:\n",
        "    print(f\"SUJEITO: {s}\\nPREDICADO: {p}\\nOBJETO: {o}\\n\\n\")\n"
      ]
    },
    {
      "cell_type": "markdown",
      "metadata": {
        "id": "WmQ3I9nKHGuA"
      },
      "source": [
        "<p> No código 1, o grafo é criado com o método Graph(), que inicia um grafo g. A função URIRef() passa a referência de um nó para uma variável e o método Graph.add(triple: Tuple[rdflib.term.Node, rdflib.term.Node, rdflib.term.Node]) adiciona uma tripla ao grafo. A iteração na linha 18 imprime na tela todos os nós criados. <p>"
      ]
    },
    {
      "cell_type": "markdown",
      "metadata": {
        "id": "a6vcOkqIv9wp"
      },
      "source": [
        "# 4.2 - **Serializando a Ontologia**"
      ]
    },
    {
      "cell_type": "markdown",
      "metadata": {
        "id": "GhcteDZPHGuE"
      },
      "source": [
        "<p> É possível ler arquivos com Ontologias a partir da função rdflib.Graph.parse(), podendo ser de um arquivo na máquina ou dado remoto a partir de uma URL. Também é possível salvar uma Ontologia atual com a função rdflib.Graph.serialize(), que aceita como argumentos destination, format, base e encoding. </p>\n",
        "\n",
        "<p> No código 2 a seguir, é feita a leitura de um arquivo no diretório atual de um arquivo turtle e em seguida de um arquivo remoto, ou seja, apresenta o carregamento do turtle através dos métodos por repositório local e de armazenamento remoto, é impresso no terminal e depois é salvo no diretório o segundo grafo lido em um arquivo xml. </p>"
      ]
    },
    {
      "cell_type": "markdown",
      "metadata": {
        "id": "QJN8EfqfxHEG"
      },
      "source": [
        "---\n",
        "\n",
        "*   Item da lista\n",
        "*   Item da lista\n",
        "\n",
        "\n",
        " Código 2: Leitura e Gravação de arquivos de uma Ontologia\n",
        "\n",
        "---"
      ]
    },
    {
      "cell_type": "code",
      "execution_count": null,
      "metadata": {
        "colab": {
          "base_uri": "https://localhost:8080/",
          "height": 130
        },
        "id": "l3y7-IZKw_Dr",
        "outputId": "15176c19-effa-4aab-8cb8-73871ef650da"
      },
      "outputs": [
        {
          "data": {
            "text/plain": [
              "<Graph identifier=Nf763f27472cf45b5abf51044d8019828 (<class 'rdflib.graph.Graph'>)>"
            ]
          },
          "execution_count": 10,
          "metadata": {},
          "output_type": "execute_result"
        }
      ],
      "source": [
        "from rdflib import Graph, Literal, RDF, URIRef\n",
        "\n",
        "#Leitura de um arquivo no diretório local no formato n-triple\n",
        "g = Graph()\n",
        "g.parse(\"unespInst.ttl\")\n",
        "\n",
        "# Leitura de Grafos da Internet\n",
        "h = Graph()\n",
        "h.parse(\"https://raw.githubusercontent.com/nemo-ufes/doce/master/doce.ttl\", format=\"ttl\")\n",
        "\n",
        "# Imprimir todo o Grafo no formato RDF Turtle na tela\n",
        "print(h.serialize(format=\"turtle\"))\n",
        "\n",
        "#Salvando o grafo no diretório local\n",
        "h.serialize(destination=\"doce\", format=\"xml\")\n",
        "\n",
        "# Criar uma tripla com todos os tipos presentes na ontologia\n",
        "# Relação <predicado> is a <objeto>\n",
        "print(\"Triplas em Unesp.ttl:\",len(g))\n",
        "savedTriple = Graph()\n",
        "savedTriple += g.triples((None, RDF.type, None))\n",
        "\n",
        "#Salvar em um arquivo turtle o novo grafo\n",
        "print(\"Triplas em Medições:\", len(savedTriple))\n",
        "savedTriple.serialize(destination=\"F:/Users/User/Desktop/integradoce/types.ttl\")\n"
      ]
    },
    {
      "cell_type": "markdown",
      "metadata": {
        "id": "lahV9JuvxVOM"
      },
      "source": [
        "<p> O código 2 apresenta dois usos de  Graph.serialize(destination = None, encoding = 'utf-8', format = 'xml', **args), o primeiro é para imprimir toda o grafo na tela e o segundo é para salvar o grafo como uma ontologia no armazenamento local.</p>\n",
        "<p> A biblioteca RDFLib permite o uso das triplas manipulando códigos em Python, permitindo automatizar inserções e também pesquisas a partir de um algoritmo complexo.</p>"
      ]
    },
    {
      "cell_type": "markdown",
      "metadata": {
        "id": "7GJGKosrx8ja"
      },
      "source": [
        "# 4.3 - Criando Namespace"
      ]
    },
    {
      "cell_type": "markdown",
      "metadata": {
        "id": "3q3bODIZyL0I"
      },
      "source": [
        "<p> Quando cria-se uma ontologia com o RDFLib, pode-se atribuir um namespace, isto é, vincular os nomes de uma ontologia existente a um delimitador existente através de um prefixo. Esse vínculo é feito através da função rdflib.Graph.bind(prefix, namespace, override=True, replace=False), observe que o namespace pode ser um dos padrões carregados pela rdflib e que prefix é geralmente o nome do namespace. </p>\n",
        "<p> Observe que além de criar triplas é possível alterá-las e removê-las, para isso existem as funções rdflib.Graph.set(triple), da mesma forma que a função  rdflib.Graph.add(triple), e a função rdflib.Graph.remove(triple). O Código 3 mostra como navegar em triplas com nós e classes criados na ontologia. </p>\n"
      ]
    },
    {
      "cell_type": "markdown",
      "metadata": {
        "id": "a8AGmhyE0LUQ"
      },
      "source": [
        "---\n",
        "  Código 3: Método de uso da URI e em armazenamento\n",
        "\n",
        "---"
      ]
    },
    {
      "cell_type": "code",
      "execution_count": null,
      "metadata": {
        "id": "rRJzvbJa0HeS"
      },
      "outputs": [],
      "source": [
        "from rdflib import Graph \n",
        "\n",
        "# Criando grafo\n",
        "g = Graph()\n",
        "savedTriple = Graph()\n",
        "\n",
        "# Carregando no grafo\n",
        "g.parse(\"http://purl.org/nemo/doce\", format=\"ttl\")\n",
        "\n",
        "# Criando namespace\n",
        "doce = URIRef(\"http://purl.org/nemo/doce#\")\n",
        "DOCE = Namespace(doce)\n",
        "\n",
        "# Criar uma tripla com todos os tipos presentes na ontologia\n",
        "# Relação <predicado> is a River\n",
        "print(\"Triplas em doce.ttl:\",len(g))\n",
        "savedTriple += g.triples((None, RDF.type, DOCE.River))\n",
        "\n",
        "# Salvar em um arquivo turtle\n",
        "print(\"Triplas em Medições:\", len(savedTriple))\n",
        "savedTriple.serialize(destination=\"F:/Users/User/Desktop/integradoce/types.ttl\")\n"
      ]
    },
    {
      "cell_type": "markdown",
      "metadata": {
        "id": "NoBqe-lF0du2"
      },
      "source": [
        "<p> O Código 3 carrega primeiro a ontologia doce a partir do repositório da ontologia e cria o Namespace para doce, para poder identificar um nó dessa clase, e em seguida, serializamos as relações em que o Objeto é um DOCE.River.</p>"
      ]
    },
    {
      "cell_type": "markdown",
      "metadata": {
        "id": "m8G5KDmCyhRf"
      },
      "source": [
        "# 4.4 - Navegando pelas triplas"
      ]
    },
    {
      "cell_type": "markdown",
      "metadata": {
        "id": "PUAphDwIytwf"
      },
      "source": [
        "<p> O RDFLib permite navegar por triplas específicas ao iterar por triplas de uma ontologia. Desse modo, é possível usar coringas, variáveis do tipo “None”, e termos específicos, permitindo que a busca seja realizada somente nas triplas que contêm esse nome na posição passada na função. O código 4 exemplifica esse uso utilizando uma ontologia da W3C que organiza pessoas da empresa.</p>\n"
      ]
    },
    {
      "cell_type": "markdown",
      "metadata": {
        "id": "ePBVNWIgy_zs"
      },
      "source": [
        "---\n",
        "  Código 4: Método Triples\n",
        "\n",
        "---"
      ]
    },
    {
      "cell_type": "code",
      "execution_count": null,
      "metadata": {
        "id": "jlh6BpQ1y9-p"
      },
      "outputs": [],
      "source": [
        "# Importar e carregar o gráfico a partir da internet\n",
        "from RDFlib import Graph\n",
        "from rdflib.namespace import FOAF\n",
        "\n",
        "# Criando grafo\n",
        "g = Graph()\n",
        "g.parse(\"http://www.w3.org/People/Berners-Lee/card\")\n",
        "\n",
        "# Encontrar todos sujeitos do tipo pessoa\n",
        "for s, p, o in g.triples((None, RDF.type, FOAF.Person)):\n",
        "    print(f\"{s} is a person\")\n"
      ]
    },
    {
      "cell_type": "markdown",
      "metadata": {
        "id": "N0QebHZfzLHR"
      },
      "source": [
        "</p> O código 4 usa o método Graph.triples(triple: Tuple[Optional[rdflib.term.Node], Union[None, rdflib.paths.Path, rdflib.term.Node], Optional[rdflib.term.Node]]) para criar o grupo de triplas no qual será iterado a pesquisa. Desse modo é possível pesquisar em uma união de conjuntos através de uma iteração, especificada por um caminho ou um dos Nós do grafo.</p>\n",
        "<p>Para procurar em um nó da ontologia Doce, primeiro devemos passar a URI da ontologia, para poder usar do método FOAF.Person, que não é possível de forma direta. Desse modo, o mesmo iterador do código 4 ficaria como no código 5 para a classe River da ontologia doce. </p>\n"
      ]
    },
    {
      "cell_type": "markdown",
      "metadata": {
        "id": "68HEHTWW9UZ3"
      },
      "source": [
        "---\n",
        "  Código 5: Navegando com uso de triples\n",
        "\n",
        "---"
      ]
    },
    {
      "cell_type": "code",
      "execution_count": null,
      "metadata": {
        "id": "WRHG_tRI9UZ3"
      },
      "outputs": [],
      "source": [
        "from rdflib import Namespace, Graph,, URIRef\n",
        "from rdflib.namespace import RDF\n",
        "\n",
        "# criando grafo\n",
        "g = Graph()\n",
        "onto = g.parse(\"https://raw.githubusercontent.com/nemo-ufes/doce/master/doce.ttl\", format=\"ttl\");\n",
        "\n",
        "# criando Namespace\n",
        "doce = URIRef(“http://purl.org/nemo/doce#”)\n",
        "DOCE = Namespace(doce)\n",
        "\n",
        "# relações em que sujeito é do tipo River\n",
        "for s, p, o in g.triples((None, RDF.type, DOCE.River)):\n",
        "    print(f\"\\n< {s} >, < {p} >, < {o} >\\n\")\n"
      ]
    },
    {
      "cell_type": "markdown",
      "metadata": {
        "id": "HFROhYkx9UZ3"
      },
      "source": [
        "<p> Desse modo é possível procurar por um atributo representado por um nó ou mesmo um tipo de relação, representada por uma aresta do grafo. O grafo g carregado com a ontologia Doce Water Quality é iterada no exemplo com o uso do método específicado triples, que usa um ou dois nós como pré-definição e passa por todas as triplas que completam o parâmetro passado.  </p>\n",
        "<p> Outro método de busca é Graph.value(subject=None, predicate=rdflib.term.URIRef('http://www.w3.org/1999/02/22-rdf-syntax-ns#value'), object=None, default=None, any=True), que busca diretamento o valor do objeto para dois nós de sujeito e predicados passados como parametro e sabe-se que os pares tem somente um valor.</p>"
      ]
    },
    {
      "cell_type": "markdown",
      "metadata": {
        "id": "gLmfBZ61zY8u"
      },
      "source": [
        "---\n",
        "  Código 6: Obter nós de grafos da ontologia\n",
        "\n",
        "---"
      ]
    },
    {
      "cell_type": "code",
      "execution_count": null,
      "metadata": {
        "id": "MvLgMjvSzW-j"
      },
      "outputs": [],
      "source": [
        "\n",
        "from rdflib import Namespace, Graph\n",
        "from rdflib.namespace import RDF\n",
        "\n",
        "#Criação do Grafo g e carregamento de Doce Water Ontology\n",
        "g = Graph()\n",
        "g.parse(\"https://raw.githubusercontent.com/nemo-ufes/doce/master/doce.ttl\", format=\"ttl\");\n",
        "\n",
        "#Criando Namespace da ontologia doce e de rdfs\n",
        "doce = URIRef(\"http://purl.org/nemo/doce#\")\n",
        "DOCE = Namespace(\"http://purl.org/nemo/doce#\")\n",
        "rdfs = URIRef(\"http://www.w3.org/2000/01/rdf-schema#\")\n",
        "RDFS = Namespace(rdfs)\n",
        "\n",
        "# Busca por objetos que sejam um tipo comentário (comentário pertence a RDFS) e\n",
        "# comentem a classe rio\n",
        "aux = g.value(DOCE.River, RDFS.comment)\n",
        "print(f\"Sujeito: \\n---\\n{aux}\\n---\")\n"
      ]
    },
    {
      "cell_type": "markdown",
      "metadata": {
        "id": "Q2WBOgy_zfo2"
      },
      "source": [
        "<p> O código 6 ilustra a busca por um objeto comentário pertencente a tripla passada como parâmetro da função value e retornado para a variável aux. Observe que o Namespace que nos trabalhamos aqui é o do Projeto Doce, ele não está presente no rdflib, então é preciso criar uma variável que chamamos de DOCE para poder usar os métodos dela para usar as URI como na linha 17.</p>"
      ]
    },
    {
      "cell_type": "markdown",
      "metadata": {
        "id": "8mFn6OMA0xMk"
      },
      "source": [
        "# 4.5 - Obtendo dados na integradoce"
      ]
    },
    {
      "cell_type": "markdown",
      "metadata": {
        "id": "wqpb92Q0X9n6"
      },
      "source": [
        "\n",
        "<p>No diagrama a seguir poderíamos relacionar o objeto doce:RioDoce, que é um doce:River, com uma doce:Measument através de gufo:participatedIn, porém ao iterar com o método triples só obtemos resultados relações com sujeito doce:RioDoce, predicado doce:ParticipatedIn e objeto NULL se usarmos diretamente doce:Measurement, não obtendo resultados ao pesquisar com gufo:Event que é a classe a qual pertence doce:mEasurement.</p>\n",
        "\n",
        "<pre>\n",
        "###  http://purl.org/nemo/doce#Agent\n",
        ":Agent rdf:type owl:Class ;\n",
        "       rdfs:subClassOf gufo:Object ;\n",
        "       rdfs:comment \"A gufo:Object capable of performing actions, typically a person or an organization.\"@en ;\n",
        "       rdfs:label \"Agent\"@en .\n",
        "       \n",
        "###  http://purl.org/nemo/gufo#Object\n",
        "gufo:Object rdf:type owl:Class ;\n",
        "            rdfs:subClassOf gufo:Endurant ;\n",
        "            rdfs:label \"Object\"@en .\n",
        "\n",
        "###  http://purl.org/nemo/doce#ResearchActivity\n",
        ":ResearchActivity rdf:type owl:Class ;\n",
        "                  rdfs:subClassOf :GeographicallyLocatedEntity ,\n",
        "                                  gufo:Event ;              \n",
        "                    rdfs:label \"ResearchActivity\"@en .\n",
        "                    \n",
        "###  http://purl.org/nemo/doce#Measurement\n",
        ":Measurement rdf:type owl:Class ;\n",
        "             rdfs:subClassOf :ResearchActivity ;\n",
        "             rdfs:label \"Measurement\"@en .\n",
        "             \n",
        "###  http://purl.org/nemo/gufo#participatedIn\n",
        "gufo:participatedIn rdf:type owl:ObjectProperty ;\n",
        "                    rdfs:domain gufo:Object ;\n",
        "                    rdfs:range gufo:Event ;\n",
        "                    rdfs:label \"participatedIn\"@en .\n",
        "</pre>\n",
        "\n",
        "<p>As triplas com sujeito doce:RioDoce declaram que ele é um doce:River através do predicado rdf:type, e por sua vez as triplas com sujeito :River declaram que ele é um doce:NaturalGeographicFeature através do predicado rdfs:subClassOf. Seguindo o mesmo princípio, doce:NaturalGeographicFeature é subclasse (rdf:subClassOf) de owl:GeographicFeature, esta que é subclasse de doce:GeographicallyLocatedEntity, que é subclasse de gufo:Concreteindividual. </p>\n",
        "\n",
        "<p>De acordo com o diagrama da Figura 1, isso quer dizer que um River tem a propriedade doce:participatedIn com objeto gufo:Event, pois ela deveria relacionar um gufo:Object com um gufo:Event, a ser respectivamente doce:RioDoce e um doce:Measurement. O esquema a seguir trás as instâncias que geraram essa colocação.</p>\n",
        "\n",
        "<pre> \n",
        "###  http://purl.org/nemo/doce#RioDoce\n",
        ":RioDoce rdf:type owl:NamedIndividual ,\n",
        "                  :River .\n",
        "\n",
        "###  http://purl.org/nemo/doce#River\n",
        ":River rdf:type owl:Class ;\n",
        "       rdfs:subClassOf :NaturalGeographicFeature ,\n",
        "                       :SurfaceWaterFeature ;\n",
        "       rdfs:comment \"\"\"A natural doce:SurfaceWaterFeature in which water runs due to gravity.\n",
        "\n",
        "###  http://purl.org/nemo/doce#NaturalGeographicFeature\n",
        ":NaturalGeographicFeature rdf:type owl:Class ;\n",
        "                          rdfs:subClassOf :GeographicFeature ;\n",
        "                          rdfs:comment \"\"\"A natural doce:GeographicFeature. \n",
        "\n",
        "###  http://purl.org/nemo/doce#GeographicallyLocatedEntity\n",
        ":GeographicallyLocatedEntity rdf:type owl:Class ;\n",
        "                             rdfs:subClassOf gufo:ConcreteIndividual .\n",
        "\n",
        "###  http://purl.org/nemo/gufo#ConcreteIndividual\n",
        "gufo:ConcreteIndividual rdf:type owl:Class ;\n",
        "                        rdfs:subClassOf gufo:Individual ;\n",
        "                        owl:disjointUnionOf ( gufo:Endurant\n",
        "                                              gufo:Event\n",
        "                                              gufo:Situation\n",
        "                                            ) ;\n",
        "                        rdfs:label \"ConcreteIndividual\"@en .\n",
        "                        \n",
        "###  http://purl.org/nemo/gufo#Individual\n",
        "gufo:Individual rdf:type owl:Class ;\n",
        "                owl:disjointWith gufo:Type ;\n",
        "                owl:disjointUnionOf ( gufo:AbstractIndividual\n",
        "                                      gufo:ConcreteIndividual\n",
        "                                    ) ;\n",
        "                rdfs:label \"Individual\"@en .\n",
        "                        \n",
        "###  http://purl.org/nemo/gufo#Endurant\n",
        "gufo:Endurant rdf:type owl:Class ;\n",
        "              rdfs:subClassOf gufo:ConcreteIndividual ;\n",
        "              owl:disjointUnionOf ( gufo:Aspect\n",
        "                                    gufo:Object\n",
        "                                  ) ;\n",
        "              rdfs:label \"Endurant\"@en .\n",
        "              \n",
        "</pre>"
      ]
    },
    {
      "cell_type": "markdown",
      "metadata": {
        "id": "ackUz7MiHGuW"
      },
      "source": [
        "<p>Desse modo, para elaborar filtros deve levar em conta as instâncias declaradas dentro do código previamente, já que não há inferência dentro do grafo. Isso quer dizer que, como dito anteriormente, para encontrar uma doce:Measurement é necessário procurar diretamente por ela, apesar dela ser da classe gufo:Event não aparecerá resultados ao pesquisar no arquivo de instância por gufo:Event.</p>"
      ]
    },
    {
      "cell_type": "markdown",
      "metadata": {
        "id": "Y7tJd_06fAH3"
      },
      "source": [
        "# 5 - Funções"
      ]
    },
    {
      "cell_type": "markdown",
      "metadata": {
        "id": "nQxfMTso9UZ6"
      },
      "source": [
        "<p> O código 8 a seguir apresenta a função de pesquisa por data, onde dado um período de início de fim busca-se dentre as doce:Measurement as que tem marca de tempo dentro do intervalo passado e devolve para um gráfico os valores encontrados. As observações na sessões anteriores são levadas em conta e o valor retornado na função é um grafo com o filtro de pesquis por data.</p>"
      ]
    },
    {
      "cell_type": "markdown",
      "metadata": {
        "id": "LQOQlwNx1QUi"
      },
      "source": [
        "---\n",
        "  Código 8: Pesquisa em intervalo de data\n",
        "\n",
        "---"
      ]
    },
    {
      "cell_type": "code",
      "execution_count": null,
      "metadata": {
        "id": "hx5yXyTj1KvO"
      },
      "outputs": [],
      "source": [
        "def pesqTempo (graph, ini, fin):\n",
        "  # cria um grafo \n",
        "    x = Graph()\n",
        "\n",
        "    # itera no gráfico, pegando o sujeito como predicado do tipo RDF e objeto da relação do tipo Measurement\n",
        "    for s1, p1, o1 in graph.triples((None, RDF.type, DOCE.Measurement)) :\n",
        "\n",
        "      # itera no gráfico, utilizando o sujeito obtido no laço anterior, pegando como predicado a relação\n",
        "      # \"hasBeginPointInXSDDDateTimeStamp\" e tendo como resultado o objeto. (data inicial)\n",
        "        for s2, p2, o2 in graph.triples((s1, GUFO.hasBeginPointInXSDDateTimeStamp, None)) :\n",
        "\n",
        "            # transforma a data inicial em string para realizar as comparações e retirar as incompatibilidades do arquivo\n",
        "            dateo2 = str(o2)\n",
        "\n",
        "            # sufixo de fuso horário GMT-2 removido por conflito com isoformat\n",
        "            dateo2 = dateo2.replace('-0200', '')\n",
        "            dateo2 = dateo2.replace('-0300', '') \n",
        "\n",
        "            # cria uma variavel de comparação utilizando a biblioteca isoformat do python\n",
        "            dateComp = datetime.fromisoformat(dateo2)\n",
        "\n",
        "            # faz as comparações obtidas com as informações passadas pelo usuário da data inicial\n",
        "            if ((dateComp.year >= ini.year) and (dateComp.year <= fin.year) and (dateComp.month >= ini.month) and \n",
        "                (dateComp.month <= fin.month) and (dateComp.day >= ini.day) and (dateComp.day <= fin.day)) :\n",
        "\n",
        "                 # itera no gráfico, utilizando o sujeito obtido no laço anterior, pegando como predicado a relação\n",
        "                 # \"hasEndPointInXSDDDateTimeStamp\" (Propriedade de data final) e tendo como resultado o objeto. (data final)\n",
        "                for s21, p21, o21 in graph.triples((s1, GUFO.hasEndPointInXSDDateTimeStamp, None)) :\n",
        "                    # transforma a data inicial em string para realizar as comparações e retirar as incompatibilidades do arquivo\n",
        "                    dateo2 = str(o21)\n",
        "\n",
        "                    # sufixo de fuso horário GMT-2 removido por conflito com isoformat\n",
        "                    dateo2 = dateo2.replace('-0200', '') \n",
        "                    dateo2 = dateo2.replace('-0300', '') \n",
        "\n",
        "                    # cria uma variavel de comparação utilizando a biblioteca isoformat do python\n",
        "                    dateComp = datetime.fromisoformat(dateo2)\n",
        "\n",
        "                     # faz as comparações obtidas com as informações passadas pelo usuário da data final\n",
        "                    if ((dateComp.year >= ini.year) and (dateComp.year <= fin.year) and (dateComp.month >= ini.month) and \n",
        "                (dateComp.month <= fin.month) and (dateComp.day >= ini.day) and (dateComp.day <= fin.day)) :\n",
        "                        x.add((s1, p1, o1))\n",
        "                        # laços para adicionar instâncias com sujeito a doce:measurement encontrada\n",
        "                        for s3, p3, o3 in graph.triples((None, GUFO.participatedIn, s1)) :\n",
        "                            x.add((s3, p3, o3))\n",
        "                        for s3, p3, o3 in graph.triples((s1, DOCE.locatedIn, None)) :\n",
        "                            x.add((s3, p3, o3))\n",
        "                        for s3, p3, o3 in graph.triples((s1, DOCE.measured, None)) :\n",
        "                            x.add((s3, p3, o3))\n",
        "                        for s3, p3, o3 in graph.triples((s1, DOCE.measuredQualityKind, None)) :\n",
        "                            x.add((s3, p3, o3))  \n",
        "                        for s3, p3, o3 in graph.triples((s1, DOCE.expressedIn, None)) :\n",
        "                            x.add((s3, p3, o3))\n",
        "                        for s3, p3, o3 in graph.triples((s1, GUFO.hasQualityValue, None)) :\n",
        "                            x.add((s3, p3, o3)) \n",
        "                            \n",
        "                    x.add((s21, p21, o21))\n",
        "                    x.add((s2, p2, o2))\n",
        "                    \n",
        "    # retorna o grafo com todos os resultados obtidos.\n",
        "    return x"
      ]
    },
    {
      "cell_type": "markdown",
      "metadata": {
        "id": "FSZptDxdCtV8"
      },
      "source": [
        "\n",
        "\n"
      ]
    },
    {
      "cell_type": "markdown",
      "metadata": {
        "id": "R_8n6n0P1V8e"
      },
      "source": [
        "<p>Devido a problemas de compatibilidade foi usado uma função para remover o marcador de fuso usado na ontologia. As triplas adicionadas tem sujeito doce:Measurement encontrado no início do laço, então a função percorre todas e devolve ao grafo somente as favoráveis. Para o código 9, o código para encontrar ponto em uma região geográfica do mesmo modo leva-se em conta o intervalo de coordenadas que forma um retângulo e pega os pontos contidos nesse meio.</p>⠀"
      ]
    },
    {
      "cell_type": "markdown",
      "metadata": {
        "id": "e1X5SiGW9UZ7"
      },
      "source": [
        "---\n",
        "  Código 9: Pesquisa em região geográfica\n",
        "\n",
        "---"
      ]
    },
    {
      "cell_type": "code",
      "execution_count": null,
      "metadata": {
        "id": "uQ12FJib9UZ7"
      },
      "outputs": [],
      "source": [
        "def pesqLocalizacao(graph, latMin, latMax, longMin, longMax):\n",
        "    # Cria o grafo\n",
        "    x = Graph()\n",
        "    # Flag para indicar que não encontrou resultados\n",
        "    flag = 1\n",
        "\n",
        "    # Laço para pegar o sujeito e predicado como objeto utilizado a relação GeographicPoint\n",
        "    for s1, p1, o1 in graph.triples((None, None, DOCE.GeographicPoint)) :\n",
        "\n",
        "        # Obtém o valor de latitude e longitude\n",
        "        lat = graph.value(s1, WGS.lat)\n",
        "        long = graph.value(s1, WGS.long)\n",
        "\n",
        "        # Comparação utilizada para saber se os dados passados pelo usuário contém na base de arquivo\n",
        "        if lat < Literal(latMax, datatype=XSD.float) and lat > Literal(latMin, datatype=XSD.float) :\n",
        "            if long < Literal(longMax, datatype=XSD.float) and long > Literal(longMin, datatype=XSD.float) :\n",
        "\n",
        "              # Laço para filtrar os resultados utilizando o predicado da relação locatedIn, e o objeto como o sujeito do primeiro laço (relação GeographicPoint)\n",
        "                for s4, p4, o4 in graph.triples((None, DOCE.locatedIn, s1)) :\n",
        "\n",
        "                    # Laço para adicionar o ponto geográfico que tem relação com a medição\n",
        "                    for s5, p5, o5 in graph.triples((s4, RDF.type, DOCE.Measurement)) :\n",
        "\n",
        "                        # Laço para adicionar o agente que participou da medição.\n",
        "                        for s6, p6, o6 in graph.triples((None, GUFO.participatedIn, s5)) :\n",
        "                            # Encontrou os resultados, começar a adicionar as triplas com sujeito a doce:measurement encontrada.\n",
        "                            flag=0 \n",
        "                            x.add((s5, p5, o5))\n",
        "                            x.add((s6, p6, o6))\n",
        "                            x.add((s1, p1, o1))\n",
        "\n",
        "                        # Laços para adicionar instâncias com sujeito a doce:measurement encontrada.\n",
        "                        for s6, p6, o6 in graph.triples((s5, DOCE.measuredQualityKind, None)) :\n",
        "                            x.add((s6, p6, o6))\n",
        "                            for s7, p7, o7 in graph.triples((s5, DOCE.expressedIn, None)) :\n",
        "                                x.add((s7, p7, o7))\n",
        "                            for s3, p3, o3 in graph.triples((s1, DOCE.measured, None)) :\n",
        "                                x.add((s3, p3, o3))\n",
        "                            for s7, p7, o7 in graph.triples((s5, DOCE.hasQualityValue, None)) :\n",
        "                                x.add((s7, p7, o7))\n",
        "                            for s7, p7, o7 in graph.triples((s5, DOCE.hasBeginPointInXSDDateTimeStamp, None)) :\n",
        "                                x.add((s7, p7, o7))\n",
        "\n",
        "\n",
        "    # Caso não encontre resultados com as informações passadas, é mostrado na tela que não foram encontrados resultados.\n",
        "    if flag :\n",
        "        print(\"\\nNão foram encontrados resultados\")\n",
        "\n",
        "    # Retorna o grafo resultante.\n",
        "    return x"
      ]
    },
    {
      "cell_type": "markdown",
      "metadata": {
        "id": "wCPF9SUC9UZ7"
      },
      "source": [
        "⠀⠀<p>De modo semelhante, o gráfico retornado possui as instâncias do arquivo original porém com a região limitada. A comparação com a função Graph.Literal() foi necessária para evitar erro por compatibilidade entre o objeto do grafo e a string. Os códigos 10 e 11 apresentam as funções de pesquisa por qualidade medida e por agente responsável. Ambas são mais simples e semelhantes ao que já foi feito, recebem um valor para comprarar, procuram entre as doce:Measurement uma que tenha um objeto com valor semelhante e passam os dados dessa instância para o programa.</p>⠀"
      ]
    },
    {
      "cell_type": "markdown",
      "metadata": {
        "id": "W7S3Okvp9UZ8"
      },
      "source": [
        "---\n",
        "  Código 10: Pesquisa por qualidade medida\n",
        "\n",
        "---"
      ]
    },
    {
      "cell_type": "code",
      "execution_count": null,
      "metadata": {
        "id": "xOYKXeAu9UZ8"
      },
      "outputs": [],
      "source": [
        "def pesqQualidade(exampleTriples, qualk):\n",
        "    # Cria o grafo\n",
        "    x = Graph()\n",
        "    # Flag para indicar que não encontrou resultados\n",
        "    flag = 1\n",
        "    \n",
        "    # Laço para obter como sujeito, o predicado do tipo RDF e o objeto da relação Measurement\n",
        "    for s1, p1, o1 in exampleTriple.triples((None, RDF.type, DOCE.Measurement)) :\n",
        "\n",
        "        # Laço utilizado para obter o objeto, tendo como sujeito o resultante do laço anterior e o predicado\n",
        "        # Da relação do tipo measuredQualityKind\n",
        "        for s2, p2, o2 in exampleTriple.triples((s1, DOCE.measuredQualityKind, None)) :\n",
        "\n",
        "            # Cria uma variável med (medição) e o transforma em string\n",
        "            med = str(o2)\n",
        "            med = med.replace(str(DOCE),\"\")\n",
        "\n",
        "            # Faz a comparação da qualidade passada pelo usuário e da medição obtida\n",
        "            if qualk in med :\n",
        "                # Laços para adicionar instâncias com sujeito a doce:measurement encontrada\n",
        "                for s3,p3,o3 in exampleTriple.triples((None, GUFO.participatedIn, s1)) :\n",
        "                    # Adiciona no grafo os resultados obtidos \n",
        "                    x.add((s1, p1, o1))\n",
        "                    x.add((s3, p3, o3))\n",
        "                for s3,p3,o3 in exampleTriple.triples((s1, DOCE.locatedIn, None)) :\n",
        "                    x.add((s3, p3, o3))\n",
        "                x.add((s2, p2, o2))\n",
        "                for s3,p3,o3 in exampleTriple.triples((s1, DOCE.expressedIn, None)) :\n",
        "                    x.add((s3, p3, o3))\n",
        "                for s3, p3, o3 in exampleTriple.triples((s1, DOCE.measured, None)) :\n",
        "                    x.add((s3, p3, o3))\n",
        "                for s3,p3,o3 in exampleTriple.triples((s1, GUFO.hasQualityValue, None)) :\n",
        "                    x.add((s3, p3, o3))\n",
        "                for s3,p3,o3 in exampleTriple.triples((s1, GUFO.hasBeginPointInXSDDateTimeStamp, None)) :\n",
        "                    x.add((s3, p3, o3))\n",
        "                    \n",
        "    # Caso não encontre resultados com as informações passadas, é mostrado na tela que não foram encontrados resultados.\n",
        "    if flag :\n",
        "        print(\"\\nNão foram encontrados resultados\")\n",
        "\n",
        "    # Retorna o grafo resultante\n",
        "    return x"
      ]
    },
    {
      "cell_type": "markdown",
      "metadata": {
        "id": "DwMVS64b9UZ9"
      },
      "source": [
        "---\n",
        "  Código 11: Função pesquisa por qualidade medida\n",
        "\n",
        "---"
      ]
    },
    {
      "cell_type": "code",
      "execution_count": null,
      "metadata": {
        "id": "o3q8LcjO9UZ8"
      },
      "outputs": [],
      "source": [
        "def PesqAgent(exampleTriple, pesquisa):\n",
        "    # Cria o grafo\n",
        "    x = Graph()\n",
        "    # Flag para indicar que não encontrou resultados\n",
        "    flag = 1\n",
        "    \n",
        "\n",
        "    # Laço para filtrar o sujeito, tendo como predicado o tipo RDF, e o objeto a relação Agent\n",
        "    for s1, p1, o1 in exampleTriple.triples((None, RDF.type , DOCE.Agent)) :\n",
        "\n",
        "        # Cria uma variável de laboratório e transforma em string\n",
        "        lab = str(s1)\n",
        "        lab = lab.replace(str(DOCEEX),\"\")\n",
        "\n",
        "        # faz a comparação se o dado passado pelo usuário está presente na base de dados\n",
        "        if pesquisa in lab :\n",
        "\n",
        "            # laço para filtrar o objeto, o sujeito é o resultante do primeiro laço e o predicado da relação participatedIn\n",
        "            for s2, p2, o2 in exampleTriple.triples((s1, GUFO.participatedIn, None)) :\n",
        "\n",
        "\n",
        "                # cria uma variável de laboratório e transforma em string\n",
        "                med = str(o2)\n",
        "                med = med.replace(str(DOCEEX),\"\")\n",
        "                \n",
        "                # adicionar instâncias com sujeito a doce:measurement encontrada\n",
        "                x.add((o2, RDF.type, DOCE.Measurement))\n",
        "                x.add((s2, p2, o2))\n",
        "                for s3, p3, o3 in exampleTriple.triples((o2, DOCE.locatedIn, None)) :\n",
        "                    x.add((s3, p3, o3))\n",
        "                for s3, p3, o3 in exampleTriple.triples((o2, DOCE.measuredQualityKind, None)) :\n",
        "                    x.add((s3, p3, o3))\n",
        "                for s3, p3, o3 in graph.triples((s1, DOCE.measured, None)) :\n",
        "                    x.add((s3, p3, o3))\n",
        "                for s3, p3, o3 in exampleTriple.triples((o2, DOCE.expressedIn, None)) :\n",
        "                    x.add((s3, p3, o3))\n",
        "                for s3, p3, o3 in exampleTriple.triples((o2, GUFO.hasQualityValue, None)) :\n",
        "                    x.add((s3, p3, o3))\n",
        "                for s3, p3, o3 in exampleTriple.triples((o2, GUFO.hasBeginPointInXSDDateTimeStamp, None)) :\n",
        "                    x.add((s3, p3, o3))\n",
        "\n",
        "    # Caso não encontre resultados com as informações passadas, é mostrado na tela que não foram encontrados resultados.\n",
        "    if flag :\n",
        "        print(\"\\nNão foram encontrados resultados\")\n",
        "        \n",
        "    # retorna o grafo resultante\n",
        "    return x"
      ]
    },
    {
      "cell_type": "markdown",
      "metadata": {
        "id": "LcPNIDg2HGuo"
      },
      "source": [
        "# 6 - Materiais e Links Relacionados"
      ]
    },
    {
      "cell_type": "markdown",
      "metadata": {
        "id": "1maUWIVcHGup"
      },
      "source": [
        "O Projeto Integradoce\n",
        "\n",
        "A Ontologia de Qualidade da Água do Rio Doce\n",
        "\n",
        "gUFO: A Lightweight Implementation of the Unified Foundational Ontology (UFO)\n"
      ]
    }
  ],
  "metadata": {
    "colab": {
      "collapsed_sections": [],
      "name": "projeto_integradoce_ufes.ipynb",
      "provenance": []
    },
    "kernelspec": {
      "display_name": "Python 3 (ipykernel)",
      "language": "python",
      "name": "python3"
    },
    "language_info": {
      "codemirror_mode": {
        "name": "ipython",
        "version": 3
      },
      "file_extension": ".py",
      "mimetype": "text/x-python",
      "name": "python",
      "nbconvert_exporter": "python",
      "pygments_lexer": "ipython3",
      "version": "3.10.3"
    }
  },
  "nbformat": 4,
  "nbformat_minor": 0
}