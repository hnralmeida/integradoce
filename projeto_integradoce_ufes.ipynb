{
  "cells": [
    {
      "cell_type": "markdown",
      "metadata": {
        "id": "5NQhM0Q5YHYQ"
      },
      "source": [
        "# O Projeto"
      ]
    },
    {
      "cell_type": "markdown",
      "source": [
        "<p> Este projeto pretende apresentar funções que foram criadas para filtrar pesquisas e ensinar os usuários como utilizar essas funções adequadamente detalhando-as e explicando o que foi feito passo-a-passo. Serão apresentados exemplos de como criar triplas, como criar gráficos e como iterar nesses gráficos utilizando um modelo de diagrama da ontologia. </p> \n",
        "A equipe é formada pelos seguintes integrantes:\n",
        "- Luiz Eduardo Marchiori - Henrique de Almeida Oliveira \n",
        "- Julio Nardi e Victorio Albani de Carvalho"
      ],
      "metadata": {
        "id": "3X_ls-gHYAfw"
      }
    },
    {
      "cell_type": "markdown",
      "metadata": {
        "id": "LtAMYIeAX9no"
      },
      "source": [
        "# Tecnologias Utilizadas"
      ]
    },
    {
      "cell_type": "markdown",
      "metadata": {
        "id": "PyAazo-_X9np"
      },
      "source": [
        "<p> O RDFLib é um pacote Python de código aberto para tratamento de triplas RDF (Resource Description Framework) da Web Semântica utilizado durante todo o trabalho e mantido em um repositório GitHub. Ele contém a maioria das funções necessárias para trabalhar com RDF, como, por exemplo: Analisadores e serializadores para RDF/XML, N3, NTriples, N-Quads, Turtle (utilizada neste trabalho), TriX, Trig e JSON-LD. Uma interface gráfica pode ser gerada pelo RDFLib,  ela pode armazenar implementações para endpoints SPARQL na memória, também suporta consultas SPARQL 1.1 e instruções de atualização de mecanismos de extensão da função SPARQL. </p>\n",
        "\n",
        "<p> Para a instalação do RDFLib é necessário importar a biblioteca pelo pip, o instalador de pacotes do Python. O passo a passo da instalação pode ser consultado na documentação do rdflib 6.1.1 em <a href=\"https://rdflib.readthedocs.io/en/stable/gettingstarted.html\">Getting started with RDFLib</a>. </p>\n",
        "\n"
      ]
    },
    {
      "cell_type": "markdown",
      "metadata": {
        "id": "mLLu6bu2ZKP1"
      },
      "source": [
        "# A Ontologia Usada"
      ]
    },
    {
      "cell_type": "markdown",
      "source": [
        "<p>Antes de mostrar como obter dados filtrados com o módulo python rdflib precisa-se entender minimamente como funciona a ontologia Integra Doce. O arquivo transformed_integrado.ttl é o arquivo original do projeto, nele contém todas as informações sobre o Rio Doce. O arquivo example.ttl é um arquivo menor do transformed_integrado para que possa realizar testes e etc... (o arquivo original é muito grande, não tem como realizar testes usando-o). O arquivo de exemplo está disponível no GitHub do projeto e o transformed_integrado ainda não foi postado, pois, está em modificações. \n",
        "Levamos em conta no projeto amostras insitu, isto é, medições coletadas no local e medidas por ensaio ou aparelhos.</p>\n",
        "<p>O diagrama a seguir apresenta a ontologia Integra Doce de modo simplificado, observe que o diagrama leva em conta a herança, que entretanto não é possível fazer diretamente no rdflib. Desse modo, um doce:Agent que é um  gufo:Object herda desse último a função de sujeito em doce:participatedIn, onde o objeto dessa relação é um gufo:Event. Um doce:Measurement é doce:ResearchActivity, que por sua vez é um gufo:Event, então ele herda essa relação como objeto. </p>\n",
        "\n",
        "<img src=\"Diagrama Insitu.jpeg\">\n",
        "\n",
        "---\n",
        "  Figura 1: Diagrama de relações de medições Insitu\n",
        "\n",
        "---\n",
        "\n",
        "<p>Na Figura 1 apresentada mostramos o exemplo citado no último parágrafo, além de toda relações na ontologia. Ele foi utilizado para guiar a criação dos filtros, além de analisar as relações que existem no próprio arquivo de instância. No arquivo de instância da ontologia podemos observar também o que foi dito e exposto na figura.\n"
      ],
      "metadata": {
        "id": "-EvKcJfzZMGN"
      }
    },
    {
      "cell_type": "markdown",
      "metadata": {
        "id": "0s0oUaATcEt3"
      },
      "source": [
        "# **Carregando a Ontologia**"
      ]
    },
    {
      "cell_type": "markdown",
      "metadata": {
        "id": "Bx5ag3JAwRkq"
      },
      "source": [
        "---\n",
        " Código 1: Método de Inicialização Manual de uma Ontologia\n",
        " \n",
        "---"
      ]
    },
    {
      "cell_type": "code",
      "execution_count": null,
      "metadata": {
        "id": "T2W2v2YMvpd_"
      },
      "outputs": [],
      "source": [
        "from rdflib import Graph, Literal, RDF, URIRef\n",
        "# rdflib possui nativamente diversos namespace como W3C ontologies, schema.org e etc.\n",
        "from rdflib.namespace import FOAF , XSD\n",
        "\n",
        "# Criando o Grafo\n",
        "g = Graph()\n",
        "\n",
        "# Criando o nó a partir de URI que será usado para objeto de diversas triplas\n",
        "donna = URIRef(\"http://example.org/donna\")\n",
        "\n",
        "# Utilizando o método add() para adicionar as triplas\n",
        "g.add((donna, RDF.type, FOAF.Person))\n",
        "g.add((donna, FOAF.nick, Literal(\"donna\", lang=\"en\")))\n",
        "g.add((donna, FOAF.name, Literal(\"Donna Fales\")))\n",
        "g.add((donna, FOAF.mbox, URIRef(\"mailto:donna@example.org\")))\n",
        "\n",
        "# Alternativamente, é possível iterar as triplas e imprimi-las.\n",
        "for s, p, o in g:\n",
        "    print(f\"SUJEITO: {s}\\nPREDICADO: {p}\\nOBJETO: {o}\\n\\n\")\n"
      ]
    },
    {
      "cell_type": "markdown",
      "metadata": {
        "id": "a6vcOkqIv9wp"
      },
      "source": [
        "# **Serializando a Ontologia**"
      ]
    },
    {
      "cell_type": "markdown",
      "metadata": {
        "id": "QJN8EfqfxHEG"
      },
      "source": [
        "---\n",
        " Código 2: Leitura e Gravação de arquivos de uma Ontologia\n",
        "\n",
        "---"
      ]
    },
    {
      "cell_type": "code",
      "execution_count": 2,
      "metadata": {
        "id": "l3y7-IZKw_Dr",
        "colab": {
          "base_uri": "https://localhost:8080/",
          "height": 130
        },
        "outputId": "15176c19-effa-4aab-8cb8-73871ef650da"
      },
      "outputs": [
        {
          "output_type": "error",
          "ename": "SyntaxError",
          "evalue": "ignored",
          "traceback": [
            "\u001b[0;36m  File \u001b[0;32m\"<ipython-input-2-0c0d6096d297>\"\u001b[0;36m, line \u001b[0;32m15\u001b[0m\n\u001b[0;31m    h.serialize(destination=\"doce\", format=\"xml”)\u001b[0m\n\u001b[0m                                                 ^\u001b[0m\n\u001b[0;31mSyntaxError\u001b[0m\u001b[0;31m:\u001b[0m EOL while scanning string literal\n"
          ]
        }
      ],
      "source": [
        "from rdflib import Graph, Literal, RDF, URIRef\n",
        "\n",
        "#Leitura de um arquivo no diretório local no formato n-triple\n",
        "g = Graph()\n",
        "g.parse(\"transformed_integrado.ttl\")\n",
        "\n",
        "# Leitura de Grafos da Internet\n",
        "h = Graph()\n",
        "h.parse(\"https://raw.githubusercontent.com/nemo-ufes/doce/master/doce.ttl\", format=\"ttl\")\n",
        "\n",
        "# Imprimir todo o Grafo no formato RDF Turtle\n",
        "print(h.serialize(format=\"turtle\"))\n",
        "\n",
        "#Salvando o grafo no diretório local\n",
        "h.serialize(destination=\"doce\", format=\"xml”)\n",
        "\n",
        "#Criação do Grafo g e carregamento de Arquivo de Instancia da Unesp\n",
        "exampleTriple = Graph()\n",
        "exampleTriple.parse(\"transformed_integrado.ttl\", format=\"ttl\")\n",
        "print(\"Triplas em Unesp.ttl:\",len(exampleTriple))\n",
        "\n",
        "#Criar uma tripla com as Amostras coletadas pela Unesp\n",
        "savedTriple = Graph()\n",
        "savedTriple += exampleTriple.triples((DOCE.IntegradoceUNESP, GUFO.participatedIn, None))\n",
        "\n",
        "#Salvar em um arquivo turtle\n",
        "print(\"Triplas em Medições:\", len(savedTriple))\n",
        "savedTriple.serialize(destination=\"F:/Users/User/Desktop/integradoce/UnespMeasurement.ttl\")\n"
      ]
    },
    {
      "cell_type": "markdown",
      "metadata": {
        "id": "0Pb71eNYc1zc"
      },
      "source": [
        "# **Criando triplas**"
      ]
    },
    {
      "cell_type": "markdown",
      "metadata": {
        "id": "ooVOKXoNuwhm"
      },
      "source": [
        "<p> O formato básico dos dados na RDFlib é um grafo não ordenado formado por triplas RDF, desse modo eles podem pesquisar por informações estruturadas nessas triplas e retorná-las. Em linguagem Python elas são tuplas de 3 itens, ou nós. Um exemplo de inicialização de uma Ontologia é apresentado no código 1, onde cria-se os dados de uma entidade com base na Ontologia FOAF, disponível online. </p>\n"
      ]
    },
    {
      "cell_type": "markdown",
      "metadata": {
        "id": "l0dDvLJdwwT8"
      },
      "source": [
        "<p> No código 1, o grafo é criado com o método Graph(), que inicia um grafo g. A função URIRef() passa a referência de um nó para uma variável e o método Graph.add(triple: Tuple[rdflib.term.Node, rdflib.term.Node, rdflib.term.Node]) adiciona uma tripla ao grafo. A iteração na linha 18 imprime na tela todos os nós criados. <p>\n",
        "<p> É possível ler arquivos com Ontologias a partir da função rdflib.Graph.parse(), podendo ser de um arquivo na máquina ou dado remoto a partir de uma URL. Também é possível salvar uma Ontologia atual com a função rdflib.Graph.serialize(), que aceita como argumentos destination, format, base e encoding. </p>\n",
        "\n",
        "<p> No código 2 a seguir, é feita a leitura de um arquivo no diretório atual de um arquivo turtle e em seguida de um arquivo remoto, é impresso no terminal e depois é salvo no diretório o segundo grafo lido em um arquivo xml. </p>\n"
      ]
    },
    {
      "cell_type": "markdown",
      "metadata": {
        "id": "lahV9JuvxVOM"
      },
      "source": [
        "<p> O código 2 apresenta dois usos de  Graph.serialize(destination = None, encoding = 'utf-8', format = 'xml', **args), o primeiro é para imprimir toda o grafo na tela e o segundo é para salvar o grafo como uma ontologia no armazenamento local.</p>\n",
        "<p> A biblioteca RDFLib permite o uso das triplas manipulando códigos em Python, permitindo automatizar inserções e também pesquisas a partir de um algoritmo complexo.</p>"
      ]
    },
    {
      "cell_type": "markdown",
      "metadata": {
        "id": "7GJGKosrx8ja"
      },
      "source": [
        "# Criando grafos"
      ]
    },
    {
      "cell_type": "markdown",
      "metadata": {
        "id": "3q3bODIZyL0I"
      },
      "source": [
        "<p> Quando cria-se uma ontologia com o RDFLib, pode-se atribuir um namespace, isto é, vincular os nomes de uma ontologia existente a um delimitador existente através de um prefixo. Esse vínculo é feito através da função rdflib.Graph.bind(prefix, namespace, override=True, replace=False), observe que o namespace pode ser um dos padrões carregados pela rdflib e que prefix é geralmente o nome do namespace. </p>\n",
        "<p> Observe que além de criar triplas é possível alterá-las e removê-las, para isso existem as funções rdflib.Graph.set(triple), da mesma forma que a função  rdflib.Graph.add(triple), e a função rdflib.Graph.remove(triple). </p>\n"
      ]
    },
    {
      "cell_type": "markdown",
      "metadata": {
        "id": "zhMMlJ7_zx-y"
      },
      "source": [
        "<p> O Código 3 apresenta o carregamento do turtle através dos métodos de armazenamento remoto e por repositório local. </p>"
      ]
    },
    {
      "cell_type": "markdown",
      "metadata": {
        "id": "a8AGmhyE0LUQ"
      },
      "source": [
        "---\n",
        "  Código 3: Método de carregamento de uma ontologia a partir de URI e em armazenamento\n",
        "\n",
        "---"
      ]
    },
    {
      "cell_type": "code",
      "execution_count": null,
      "metadata": {
        "id": "rRJzvbJa0HeS"
      },
      "outputs": [],
      "source": [
        "from rdflib import Graph \n",
        "\n",
        "# criando grafo\n",
        "doceTriple = Graph()\n",
        "exampleTriple = Graph()\n",
        "\n",
        "# carregando no grafo\n",
        "doceResult = doceTriple.parse(\"http://purl.org/nemo/doce\", format=\"ttl\")\n",
        "exampleResult = exampleTriple.parse(\"transformed_integrado.ttl\", format=\"ttl\")\n",
        "\n",
        "# criando namespace\n",
        "doce = URIRef(\"http://purl.org/nemo/doce#\")\n",
        "DOCE = Namespace(\"http://purl.org/nemo/doce#\")\n"
      ]
    },
    {
      "cell_type": "markdown",
      "metadata": {
        "id": "NoBqe-lF0du2"
      },
      "source": [
        "<p> O Código 3 carrega primeiro a ontologia doce a partir do repositório da ontologia e em seguida carrega os dados da “integradoce.ttl”. É necessário que o carregamento dela seja feito através de um arquivo local.</p>"
      ]
    },
    {
      "cell_type": "markdown",
      "metadata": {
        "id": "m8G5KDmCyhRf"
      },
      "source": [
        "# Navegando pelas triplas"
      ]
    },
    {
      "cell_type": "markdown",
      "metadata": {
        "id": "PUAphDwIytwf"
      },
      "source": [
        "<p> O RDFLib permite navegar por triplas específicas ao iterar por triplas de uma ontologia. Desse modo, é possível usar coringas, variáveis do tipo “None”, e termos específicos, permitindo que a busca seja realizada somente nas triplas que contêm esse nome na posição passada na função. O código 4 exemplifica esse uso utilizando uma ontologia da W3C que organiza pessoas da empresa.</p>\n"
      ]
    },
    {
      "cell_type": "markdown",
      "metadata": {
        "id": "ePBVNWIgy_zs"
      },
      "source": [
        "---\n",
        "  Código 4: Método Triples\n",
        "\n",
        "---"
      ]
    },
    {
      "cell_type": "code",
      "execution_count": null,
      "metadata": {
        "id": "jlh6BpQ1y9-p"
      },
      "outputs": [],
      "source": [
        "# importar e carregar o gráfico a partir da internet\n",
        "from RDFlib import Graph\n",
        "from rdflib.namespace import FOAF\n",
        "\n",
        "# criando grafo\n",
        "g = Graph()\n",
        "g.parse(\"http://www.w3.org/People/Berners-Lee/card\")\n",
        "\n",
        "# encontrar todos sujeitos do tipo pessoa\n",
        "for s, p, o in g.triples((None, RDF.type, FOAF.Person)):\n",
        "    print(f\"{s} is a person\")\n"
      ]
    },
    {
      "cell_type": "markdown",
      "metadata": {
        "id": "N0QebHZfzLHR"
      },
      "source": [
        "</p> O código 4 usa o método Graph.triples(triple: Tuple[Optional[rdflib.term.Node], Union[None, rdflib.paths.Path, rdflib.term.Node], Optional[rdflib.term.Node]]) para criar o grupo de triplas no qual será iterado a pesquisa. Desse modo é possível pesquisar em uma união de conjuntos através de uma iteração, especificada por um caminho ou um dos Nós do grafo.</p>\n",
        "<p>Para procurar em um nó da ontologia Doce, primeiro devemos passar a URI da ontologia, para poder usar do método FOAF.Person, que não é possível de forma direta. Desse modo, o mesmo iterador do código 4 ficaria como no código 5 para a classe River da ontologia doce. </p>\n"
      ]
    },
    {
      "cell_type": "markdown",
      "metadata": {
        "id": "68HEHTWW9UZ3"
      },
      "source": [
        "---\n",
        "  Código 5: Navegando com uso de triples\n",
        "\n",
        "---"
      ]
    },
    {
      "cell_type": "code",
      "execution_count": null,
      "metadata": {
        "id": "WRHG_tRI9UZ3"
      },
      "outputs": [],
      "source": [
        "from rdflib import Namespace, Graph,, URIRef\n",
        "from rdflib.namespace import RDF\n",
        "\n",
        "# criando grafo\n",
        "g = Graph()\n",
        "onto = g.parse(\"https://raw.githubusercontent.com/nemo-ufes/doce/master/doce.ttl\", format=\"ttl\");\n",
        "\n",
        "# criando Namespace\n",
        "doce = URIRef(“http://purl.org/nemo/doce#”)\n",
        "DOCE = Namespace(doce)\n",
        "\n",
        "# relações em que sujeito é do tipo River\n",
        "for s, p, o in g.triples((None, RDF.type, DOCE.River)):\n",
        "    print(f\"\\n< {s} >, < {p} >, < {o} >\\n\")\n"
      ]
    },
    {
      "cell_type": "markdown",
      "metadata": {
        "id": "HFROhYkx9UZ3"
      },
      "source": [
        "<p> Desse modo é possível procurar por um atributo representado por um nó ou mesmo um tipo de relação, representada por uma aresta do grafo. O grafo g carregado com a ontologia Doce Water Quality é iterada no exemplo com o uso do método específicado triples, que usa um ou dois nós como pré-definição e passa por todas as triplas que completam o parâmetro passado.  </p>\n",
        "<p> Outro método de busca é Graph.value(subject=None, predicate=rdflib.term.URIRef('http://www.w3.org/1999/02/22-rdf-syntax-ns#value'), object=None, default=None, any=True), que busca diretamento o valor do objeto para dois nós de sujeito e predicados passados como parametro e sabe-se que os pares tem somente um valor.</p>"
      ]
    },
    {
      "cell_type": "markdown",
      "metadata": {
        "id": "gLmfBZ61zY8u"
      },
      "source": [
        "---\n",
        "  Código 6: Método de criação de namespaces não comuns\n",
        "\n",
        "---"
      ]
    },
    {
      "cell_type": "code",
      "execution_count": null,
      "metadata": {
        "id": "MvLgMjvSzW-j"
      },
      "outputs": [],
      "source": [
        "\n",
        "from rdflib import Namespace, Graph\n",
        "from rdflib.namespace import RDF\n",
        "\n",
        "#Criação do Grafo g e carregamento de Doce Water Ontology\n",
        "g = Graph()\n",
        "g.parse(\"https://raw.githubusercontent.com/nemo-ufes/doce/master/doce.ttl\", format=\"ttl\");\n",
        "\n",
        "#Criando Namespace da ontologia doce e de rdfs\n",
        "doce = URIRef(\"http://purl.org/nemo/doce#\")\n",
        "DOCE = Namespace(\"http://purl.org/nemo/doce#\")\n",
        "rdfs = URIRef(\"http://www.w3.org/2000/01/rdf-schema#\")\n",
        "RDFS = Namespace(rdfs)\n",
        "\n",
        "# Busca por objetos que sejam um tipo comentário (comentário pertence a RDFS) e\n",
        "# comentem a classe rio\n",
        "aux = g.value(DOCE.River, RDFS.comment)\n",
        "print(f\"Sujeito: \\n---\\n{aux}\\n---\")\n"
      ]
    },
    {
      "cell_type": "markdown",
      "metadata": {
        "id": "Q2WBOgy_zfo2"
      },
      "source": [
        "<p> O código 6 ilustra a busca por um objeto pertencente a tripla passada como parâmetro da função value e retornado para a variável aux. Observe que o Namespace que nos trabalhamos aqui é o do Projeto Doce, ele não está presente no rdflib, então é preciso criar uma variável que chamamos de DOCE para poder usar os métodos dela para usar as URI como na linha 17.</p>"
      ]
    },
    {
      "cell_type": "markdown",
      "metadata": {
        "id": "8mFn6OMA0xMk"
      },
      "source": [
        "# Obtendo dados na integradoce"
      ]
    },
    {
      "cell_type": "markdown",
      "metadata": {
        "id": "wqpb92Q0X9n6"
      },
      "source": [
        "\n",
        "</p>    \n",
        "<pre>\n",
        "###  http://purl.org/nemo/doce#Agent\n",
        ":Agent rdf:type owl:Class ;\n",
        "       rdfs:subClassOf gufo:Object ;\n",
        "       rdfs:comment \"A gufo:Object capable of performing actions, typically a person or an organization.\"@en ;\n",
        "       rdfs:label \"Agent\"@en .\n",
        "       \n",
        "###  http://purl.org/nemo/gufo#Object\n",
        "gufo:Object rdf:type owl:Class ;\n",
        "            rdfs:subClassOf gufo:Endurant ;\n",
        "            rdfs:label \"Object\"@en .\n",
        "\n",
        "###  http://purl.org/nemo/doce#ResearchActivity\n",
        ":ResearchActivity rdf:type owl:Class ;\n",
        "                  rdfs:subClassOf :GeographicallyLocatedEntity ,\n",
        "                                  gufo:Event ;              \n",
        "                    rdfs:label \"ResearchActivity\"@en .\n",
        "                    \n",
        "###  http://purl.org/nemo/doce#Measurement\n",
        ":Measurement rdf:type owl:Class ;\n",
        "             rdfs:subClassOf :ResearchActivity ;\n",
        "             rdfs:label \"Measurement\"@en .\n",
        "             \n",
        "###  http://purl.org/nemo/gufo#participatedIn\n",
        "gufo:participatedIn rdf:type owl:ObjectProperty ;\n",
        "                    rdfs:domain gufo:Object ;\n",
        "                    rdfs:range gufo:Event ;\n",
        "                    rdfs:label \"participatedIn\"@en .\n",
        "</pre>\n",
        "\n",
        "<p>Outro exemplo é que esse último diagrama poderia relacionar o objeto doce:RioDoce, que é um doce:River, com uma doce:Measument através de gufo:participatedIn, porém ao iterar com o método triples só obtemos resultados relações com sujeito doce:RioDoce, predicado doce:ParticipatedIn e objeto NULL se usarmos diretamente doce:Measurement, não obtendo resultados ao pesquisar com gufo:Event.</p>\n",
        "\n",
        "<p>As triplas com sujeito doce:RioDoce declaram que ele é um doce:River através do predicado rdf:type, e por sua vez as triplas com sujeito :River declaram que ele é um doce:NaturalGeographicFeature através do predicado rdfs:subClassOf. Seguindo o mesmo princípio, doce:NaturalGeographicFeature é subclasse (rdf:subClassOf) de owl:GeographicFeature, esta que é subclasse de doce:GeographicallyLocatedEntity, que é subclasse de gufo:Concreteindividual. </p>\n",
        "\n",
        "<p>De acordo com o diagrama da Figura 1, isso quer dizer que um River tem a propriedade doce:participatedIn com objeto gufo:Event, pois ela deveria relacionar um gufo:Object com um gufo:Event, a ser respectivamentedoce:RioDoce e um doce:Measurement. O esquema a seguir trás as instâncias que geraram essa colocação.</p>\n",
        "\n",
        "<pre> \n",
        "###  http://purl.org/nemo/doce#RioDoce\n",
        ":RioDoce rdf:type owl:NamedIndividual ,\n",
        "                  :River .\n",
        "\n",
        "###  http://purl.org/nemo/doce#River\n",
        ":River rdf:type owl:Class ;\n",
        "       rdfs:subClassOf :NaturalGeographicFeature ,\n",
        "                       :SurfaceWaterFeature ;\n",
        "       rdfs:comment \"\"\"A natural doce:SurfaceWaterFeature in which water runs due to gravity.\n",
        "\n",
        "###  http://purl.org/nemo/doce#NaturalGeographicFeature\n",
        ":NaturalGeographicFeature rdf:type owl:Class ;\n",
        "                          rdfs:subClassOf :GeographicFeature ;\n",
        "                          rdfs:comment \"\"\"A natural doce:GeographicFeature. \n",
        "\n",
        "###  http://purl.org/nemo/doce#GeographicallyLocatedEntity\n",
        ":GeographicallyLocatedEntity rdf:type owl:Class ;\n",
        "                             rdfs:subClassOf gufo:ConcreteIndividual .\n",
        "\n",
        "###  http://purl.org/nemo/gufo#ConcreteIndividual\n",
        "gufo:ConcreteIndividual rdf:type owl:Class ;\n",
        "                        rdfs:subClassOf gufo:Individual ;\n",
        "                        owl:disjointUnionOf ( gufo:Endurant\n",
        "                                              gufo:Event\n",
        "                                              gufo:Situation\n",
        "                                            ) ;\n",
        "                        rdfs:label \"ConcreteIndividual\"@en .\n",
        "                        \n",
        "###  http://purl.org/nemo/gufo#Individual\n",
        "gufo:Individual rdf:type owl:Class ;\n",
        "                owl:disjointWith gufo:Type ;\n",
        "                owl:disjointUnionOf ( gufo:AbstractIndividual\n",
        "                                      gufo:ConcreteIndividual\n",
        "                                    ) ;\n",
        "                rdfs:label \"Individual\"@en .\n",
        "                        \n",
        "###  http://purl.org/nemo/gufo#Endurant\n",
        "gufo:Endurant rdf:type owl:Class ;\n",
        "              rdfs:subClassOf gufo:ConcreteIndividual ;\n",
        "              owl:disjointUnionOf ( gufo:Aspect\n",
        "                                    gufo:Object\n",
        "                                  ) ;\n",
        "              rdfs:label \"Endurant\"@en .\n",
        "              \n",
        "</pre>"
      ]
    },
    {
      "cell_type": "markdown",
      "metadata": {
        "id": "nQxfMTso9UZ6"
      },
      "source": [
        "<p>Desse modo, para elaborar filtros deve levar em conta as instâncias declaradas dentro do código previamente, já que não há inferência dentro do grafo. O código 8 apresenta a função de pesquisa por data, onde dado um período de início de fim busca-se dentre as doce:Measurement as que tem marca de tempo dentro do intervalo passado e devolve para um gráfico os valores encontrados. </p>"
      ]
    },
    {
      "cell_type": "markdown",
      "metadata": {
        "id": "Y7tJd_06fAH3"
      },
      "source": [
        "# Funções"
      ]
    },
    {
      "cell_type": "markdown",
      "metadata": {
        "id": "LQOQlwNx1QUi"
      },
      "source": [
        "---\n",
        "  Código 8: Pesquisa em intervalo de data\n",
        "\n",
        "---"
      ]
    },
    {
      "cell_type": "code",
      "execution_count": null,
      "metadata": {
        "id": "hx5yXyTj1KvO"
      },
      "outputs": [],
      "source": [
        "def pesqTempo (graph, ini, fin):\n",
        "  # cria um grafo \n",
        "    x = Graph()\n",
        "\n",
        "    # itera no gráfico, pegando o sujeito como predicado do tipo RDF e objeto da relação do tipo Measurement\n",
        "    for s1, p1, o1 in graph.triples((None, RDF.type, DOCE.Measurement)) :\n",
        "\n",
        "      # itera no gráfico, utilizando o sujeito obtido no laço anterior, pegando como predicado a relação\n",
        "      # \"hasBeginPointInXSDDDateTimeStamp\" e tendo como resultado o objeto. (data inicial)\n",
        "        for s2, p2, o2 in graph.triples((s1, GUFO.hasBeginPointInXSDDateTimeStamp, None)) :\n",
        "\n",
        "            # transforma a data inicial em string para realizar as comparações e retirar as incompatibilidades do arquivo\n",
        "            dateo2 = str(o2)\n",
        "\n",
        "            # sufixo de fuso horário GMT-2 removido por conflito com isoformat\n",
        "            dateo2 = dateo2.replace('-0200', '')\n",
        "\n",
        "            # sufixo de fuso horário GMT-3 removido por conflito com isoformat \n",
        "            dateo2 = dateo2.replace('-0300', '') \n",
        "\n",
        "            # cria uma variavel de comparação utilizando a biblioteca isoformat do python\n",
        "            dateComp = datetime.fromisoformat(dateo2)\n",
        "\n",
        "            # faz as comparações obtidas com as informações passadas pelo usuário da data inicial\n",
        "            if ((dateComp.year >= ini.year) and (dateComp.year <= fin.year) and (dateComp.month >= ini.month) and \n",
        "                (dateComp.month <= fin.month) and (dateComp.day >= ini.day) and (dateComp.day <= fin.day)) :\n",
        "\n",
        "                 # itera no gráfico, utilizando o sujeito obtido no laço anterior, pegando como predicado a relação\n",
        "                 # \"hasEndPointInXSDDDateTimeStamp\" (Propriedade de data final) e tendo como resultado o objeto. (data final)\n",
        "                for s21, p21, o21 in graph.triples((s1, GUFO.hasEndPointInXSDDateTimeStamp, None)) :\n",
        "                    # transforma a data inicial em string para realizar as comparações e retirar as incompatibilidades do arquivo\n",
        "                    dateo2 = str(o21)\n",
        "\n",
        "                    # sufixo de fuso horário GMT-2 removido por conflito com isoformat\n",
        "                    dateo2 = dateo2.replace('-0200', '') \n",
        "\n",
        "                    # sufixo de fuso horário GMT-3 removido por conflito com isoformat\n",
        "                    dateo2 = dateo2.replace('-0300', '') \n",
        "\n",
        "                    # cria uma variavel de comparação utilizando a biblioteca isoformat do python\n",
        "                    dateComp = datetime.fromisoformat(dateo2)\n",
        "\n",
        "                     # faz as comparações obtidas com as informações passadas pelo usuário da data final\n",
        "                    if ((dateComp.year >= ini.year) and (dateComp.year <= fin.year) and (dateComp.month >= ini.month) and \n",
        "                (dateComp.month <= fin.month) and (dateComp.day >= ini.day) and (dateComp.day <= fin.day)) :\n",
        "                        x.add((s1, p1, o1))\n",
        "                        # laços para adicionar instâncias com sujeito a doce:measurement encontrada\n",
        "                        for s3, p3, o3 in graph.triples((None, GUFO.participatedIn, s1)) :\n",
        "                            x.add((s3, p3, o3))\n",
        "                        for s3, p3, o3 in graph.triples((s1, DOCE.locatedIn, None)) :\n",
        "                            x.add((s3, p3, o3))\n",
        "                        for s3, p3, o3 in graph.triples((s1, DOCE.measured, None)) :\n",
        "                            x.add((s3, p3, o3))\n",
        "                        for s3, p3, o3 in graph.triples((s1, DOCE.measuredQualityKind, None)) :\n",
        "                            x.add((s3, p3, o3))  \n",
        "                        for s3, p3, o3 in graph.triples((s1, DOCE.expressedIn, None)) :\n",
        "                            x.add((s3, p3, o3))\n",
        "                        for s3, p3, o3 in graph.triples((s1, GUFO.hasQualityValue, None)) :\n",
        "                            x.add((s3, p3, o3)) \n",
        "                            \n",
        "                    x.add((s21, p21, o21))\n",
        "                    x.add((s2, p2, o2))\n",
        "                    \n",
        "    # retorna o grafo com todos os resultados obtidos.\n",
        "    return x"
      ]
    },
    {
      "cell_type": "markdown",
      "metadata": {
        "id": "FSZptDxdCtV8"
      },
      "source": [
        "\n",
        "\n"
      ]
    },
    {
      "cell_type": "markdown",
      "metadata": {
        "id": "R_8n6n0P1V8e"
      },
      "source": [
        "<p>Devido a problemas de compatibilidade foi usado uma função para remover o marcador de fuso usado na ontologia. As triplas adicionadas tem sujeito doce:Measurement encontrado no início do laço, então a função percorre todas e devolve ao grafo somente as favoráveis. Para o código 9, o código para encontrar ponto em uma região geográfica do mesmo modo leva-se em conta o intervalo de coordenadas que forma um retângulo e pega os pontos contidos nesse meio.</p>⠀"
      ]
    },
    {
      "cell_type": "markdown",
      "metadata": {
        "id": "e1X5SiGW9UZ7"
      },
      "source": [
        "---\n",
        "  Código 9: Pesquisa em região geográfica\n",
        "\n",
        "---"
      ]
    },
    {
      "cell_type": "code",
      "execution_count": null,
      "metadata": {
        "id": "uQ12FJib9UZ7"
      },
      "outputs": [],
      "source": [
        "def pesqLocalizacao(graph, latMin, latMax, longMin, longMax):\n",
        "    x = Graph()\n",
        "    # cria o grafo\n",
        "\n",
        "    # cria uma flag para indicar que não encontrou resultados\n",
        "    flag = 1\n",
        "\n",
        "    # laço para pegar o sujeito e predicado como objeto utilizado a relação GeographicPoint\n",
        "    for s1, p1, o1 in graph.triples((None, None, DOCE.GeographicPoint)) :\n",
        "\n",
        "        # obtém o valor de latitude para comparar com os dados passados pelo usuário, e atribui o tipo sujeito do laço anterior, tendo como relação a propriedade lat (latitude)\n",
        "        lat = graph.value(s1, WGS.lat)\n",
        "\n",
        "        # obtém o valor de longitude para comparar com os dados passados pelo usuário\n",
        "        long = graph.value(s1, WGS.long)\n",
        "\n",
        "        # comparação utilizada para saber se os dados passados pelo usuário contém na base de arquivo\n",
        "        if lat < Literal(latMax, datatype=XSD.float) and lat > Literal(latMin, datatype=XSD.float) :\n",
        "            if long < Literal(longMax, datatype=XSD.float) and long > Literal(longMin, datatype=XSD.float) :\n",
        "\n",
        "              # laço para filtrar os resultados utilizando o predicado da relação locatedIn, e o objeto como o sujeito do primeiro laço (relação GeographicPoint)\n",
        "                for s4, p4, o4 in graph.triples((None, DOCE.locatedIn, s1)) :\n",
        "\n",
        "                    # laço para adicionar o ponto geográfico que tem relação com a medição\n",
        "                    for s5, p5, o5 in graph.triples((s4, RDF.type, DOCE.Measurement)) :\n",
        "                        x.add((s5, p5, o5))\n",
        "\n",
        "                        # seta a flag como 0, ou seja, encontrou resultados.\n",
        "                        flag=0 \n",
        "\n",
        "                        # laço para adicionar o agente que participou da medição.\n",
        "                        for s6, p6, o6 in graph.triples((None, GUFO.participatedIn, s5)) :\n",
        "                            x.add((s6, p6, o6))\n",
        "                        \n",
        "                        # adiciona o sujeito e predicado como objeto,  utilizado a relação GeographicPoint\n",
        "                        x.add((s1, p1, o1))\n",
        "\n",
        "                        # laços para adicionar instâncias com sujeito a doce:measurement encontrada.\n",
        "                        for s6, p6, o6 in graph.triples((s5, DOCE.measuredQualityKind, None)) :\n",
        "                            x.add((s6, p6, o6))\n",
        "                            for s7, p7, o7 in graph.triples((s5, DOCE.expressedIn, None)) :\n",
        "                                x.add((s7, p7, o7))\n",
        "                            for s3, p3, o3 in graph.triples((s1, DOCE.measured, None)) :\n",
        "                                x.add((s3, p3, o3))\n",
        "                            for s7, p7, o7 in graph.triples((s5, DOCE.hasQualityValue, None)) :\n",
        "                                x.add((s7, p7, o7))\n",
        "                            for s7, p7, o7 in graph.triples((s5, DOCE.hasBeginPointInXSDDateTimeStamp, None)) :\n",
        "                                x.add((s7, p7, o7))\n",
        "\n",
        "\n",
        "    # caso não encontre resultados com as informações passadas, é mostrado na tela que não foram encontrados resultados.\n",
        "    if flag :\n",
        "        print(\"\\nNão foram encontrados resultados\")\n",
        "\n",
        "    # retorna o grafo resultante.\n",
        "    return x"
      ]
    },
    {
      "cell_type": "markdown",
      "metadata": {
        "id": "wCPF9SUC9UZ7"
      },
      "source": [
        "⠀⠀<p>De modo semelhante, o gráfico retornado possui as instâncias do arquivo original porém com a região limitada. A comparação com a função Graph.Literal() foi necessária para evitar erro por compatibilidade entre o objeto do grafo e a string. Os códigos 10 e 11 apresentam as funções de pesquisa por qualidade medida e por agente responsável. Ambas são mais simples e semelhantes ao que já foi feito, recebem um valor para comprarar, procuram entre as doce:Measurement uma que tenha um objeto com valor semelhante e passam os dados dessa instância para o programa.</p>⠀"
      ]
    },
    {
      "cell_type": "markdown",
      "metadata": {
        "id": "W7S3Okvp9UZ8"
      },
      "source": [
        "---\n",
        "  Código 10: Pesquisa por qualidade medida\n",
        "\n",
        "---"
      ]
    },
    {
      "cell_type": "code",
      "execution_count": null,
      "metadata": {
        "id": "xOYKXeAu9UZ8"
      },
      "outputs": [],
      "source": [
        "def pesqQualidade(exampleTriples, qualk):\n",
        "    x = Graph()\n",
        "    # cria o grafo\n",
        "\n",
        "    # laço para obter como sujeito, o predicado do tipo RDF e o objeto da relação Measurement\n",
        "    for s1, p1, o1 in exampleTriple.triples((None, RDF.type, DOCE.Measurement)) :\n",
        "\n",
        "        # laço utilizado para obter o objeto, tendo como sujeito o resultante do laço anterior e o predicado\n",
        "        # da relação do tipo measuredQualityKind\n",
        "        for s2, p2, o2 in exampleTriple.triples((s1, DOCE.measuredQualityKind, None)) :\n",
        "\n",
        "            # cria uma variável med (medição) e o transforma em string\n",
        "            med = str(o2)\n",
        "\n",
        "            # faz o replace filtrando em apenas conteúdo retirando o namespace (DOCE)\n",
        "            med = med.replace(str(DOCE),\"\")\n",
        "\n",
        "            # faz a comparação da qualidade passada pelo usuário e da medição obtida\n",
        "            if qualk in med :\n",
        "\n",
        "                # adiciona no grafo o resultado obtido \n",
        "                x.add((s1, p1, o1))\n",
        "\n",
        "                # laços para adicionar instâncias com sujeito a doce:measurement encontrada\n",
        "                for s3,p3,o3 in exampleTriple.triples((None, GUFO.participatedIn, s1)) :\n",
        "                    x.add((s3, p3, o3))\n",
        "                for s3,p3,o3 in exampleTriple.triples((s1, DOCE.locatedIn, None)) :\n",
        "                    x.add((s3, p3, o3))\n",
        "                x.add((s2, p2, o2))\n",
        "                for s3,p3,o3 in exampleTriple.triples((s1, DOCE.expressedIn, None)) :\n",
        "                    x.add((s3, p3, o3))\n",
        "                for s3, p3, o3 in exampleTriple.triples((s1, DOCE.measured, None)) :\n",
        "                    x.add((s3, p3, o3))\n",
        "                for s3,p3,o3 in exampleTriple.triples((s1, GUFO.hasQualityValue, None)) :\n",
        "                    x.add((s3, p3, o3))\n",
        "                for s3,p3,o3 in exampleTriple.triples((s1, GUFO.hasBeginPointInXSDDateTimeStamp, None)) :\n",
        "                    x.add((s3, p3, o3))\n",
        "\n",
        "    # retorna o grafo resultante\n",
        "    return x"
      ]
    },
    {
      "cell_type": "markdown",
      "source": [
        ""
      ],
      "metadata": {
        "id": "vjQ1DCE1dbDz"
      }
    },
    {
      "cell_type": "markdown",
      "metadata": {
        "id": "DwMVS64b9UZ9"
      },
      "source": [
        "---\n",
        "  Código 11: Função pesquisa por qualidade medida\n",
        "\n",
        "---"
      ]
    },
    {
      "cell_type": "code",
      "execution_count": null,
      "metadata": {
        "id": "o3q8LcjO9UZ8"
      },
      "outputs": [],
      "source": [
        "def PesqAgent(exampleTriple, pesquisa):\n",
        "    # cria o grafo\n",
        "    x= Graph()\n",
        "\n",
        "    # laço para filtrar o sujeito, tendo como predicado o tipo RDF, e o objeto a relação Agent\n",
        "    for s1, p1, o1 in exampleTriple.triples((None, RDF.type , DOCE.Agent)) :\n",
        "\n",
        "        # cria uma variável de laboratório e transforma em string\n",
        "        lab = str(s1)\n",
        "\n",
        "        # faz o replace filtrando em apenas conteúdo retirando o namespace (DOCEEX)\n",
        "        lab = lab.replace(str(DOCEEX),\"\")\n",
        "\n",
        "        # faz a comparação se o dado passado pelo usuário está presente na base de dados\n",
        "        if pesquisa in lab :\n",
        "\n",
        "            # laço para filtrar o objeto, o sujeito é o resultante do primeiro laço e o predicado da relação participatedIn\n",
        "            for s2, p2, o2 in exampleTriple.triples((s1, GUFO.participatedIn, None)) :\n",
        "\n",
        "\n",
        "                # cria uma variável de laboratório e transforma em string\n",
        "                med = str(o2)\n",
        "\n",
        "                # faz o replace filtrando em apenas conteúdo retirando o namespace (DOCEEX)\n",
        "                med = med.replace(str(DOCEEX),\"\")\n",
        "                x.add((o2, RDF.type, DOCE.Measurement))\n",
        "                \n",
        "                # adicionar instâncias com sujeito a doce:measurement encontrada\n",
        "                x.add((s2, p2, o2))\n",
        "                for s3, p3, o3 in exampleTriple.triples((o2, DOCE.locatedIn, None)) :\n",
        "                    x.add((s3, p3, o3))\n",
        "                for s3, p3, o3 in exampleTriple.triples((o2, DOCE.measuredQualityKind, None)) :\n",
        "                    x.add((s3, p3, o3))\n",
        "                for s3, p3, o3 in graph.triples((s1, DOCE.measured, None)) :\n",
        "                    x.add((s3, p3, o3))\n",
        "                for s3, p3, o3 in exampleTriple.triples((o2, DOCE.expressedIn, None)) :\n",
        "                    x.add((s3, p3, o3))\n",
        "                for s3, p3, o3 in exampleTriple.triples((o2, GUFO.hasQualityValue, None)) :\n",
        "                    x.add((s3, p3, o3))\n",
        "                for s3, p3, o3 in exampleTriple.triples((o2, GUFO.hasBeginPointInXSDDateTimeStamp, None)) :\n",
        "                    x.add((s3, p3, o3))\n",
        "\n",
        "    \n",
        "    # retorna o grafo resultante\n",
        "    return x"
      ]
    },
    {
      "cell_type": "markdown",
      "metadata": {
        "id": "5oue89X_X9n-"
      },
      "source": [
        "# Conclusão"
      ]
    },
    {
      "cell_type": "markdown",
      "metadata": {
        "id": "chbNXgV3X9n-"
      },
      "source": [
        " <p>Diferente do uso do Protégé para pesquisar em ontologias, com o RDFlib não é necessário mais que uma IDE Python ou compilador para fazer uma busca se já existir previamente um algoritmo. Além disso, se for de interesse do criador dessa Ontologia, ele pode disponibilizar esses algoritmos em uma biblioteca para o usuário para realizar buscas ou fazer consultas lógicas.</p>\n",
        " <p>Esse projeto apresenta algum dos códigos possíveis para esses algoritmos e tem intenção de mostrar a viabilidade do uso da ferramenta Jupyter Notebook para essa busca, porém também é possível fazer via terminal Python. Os algoritmos podem ser adaptados para qualquer outra ontologia, mas essa espeificamente trata as classes e instâncias para o projeto Integradoce.\n",
        "</p>    \n",
        "    <p>\"Outros trabalhos podem ser acresentados depois como referência além deste, que não deve ser a primeira tentativa de navegar em triplas através do RDFLib.\"</p>"
      ]
    },
    {
      "cell_type": "code",
      "execution_count": null,
      "metadata": {
        "id": "r7RVZnx3X9n-"
      },
      "outputs": [],
      "source": [
        ""
      ]
    }
  ],
  "metadata": {
    "colab": {
      "collapsed_sections": [],
      "name": "projeto_integradoce_ufes.ipynb",
      "provenance": []
    },
    "kernelspec": {
      "display_name": "Python 3 (ipykernel)",
      "language": "python",
      "name": "python3"
    },
    "language_info": {
      "codemirror_mode": {
        "name": "ipython",
        "version": 3
      },
      "file_extension": ".py",
      "mimetype": "text/x-python",
      "name": "python",
      "nbconvert_exporter": "python",
      "pygments_lexer": "ipython3",
      "version": "3.10.3"
    }
  },
  "nbformat": 4,
  "nbformat_minor": 0
}