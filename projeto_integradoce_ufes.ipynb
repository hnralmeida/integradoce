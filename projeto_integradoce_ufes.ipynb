{
  "nbformat": 4,
  "nbformat_minor": 0,
  "metadata": {
    "colab": {
      "name": "projeto_integradoce_ufes",
      "provenance": [],
      "toc_visible": true,
      "collapsed_sections": []
    },
    "kernelspec": {
      "name": "python3",
      "display_name": "Python 3"
    },
    "language_info": {
      "name": "python"
    }
  },
  "cells": [
    {
      "cell_type": "markdown",
      "source": [
        "                                          # Criando triplas"
      ],
      "metadata": {
        "id": "PfRpomEhvuxK"
      }
    },
    {
      "cell_type": "markdown",
      "source": [
        "# **Criando triplas**"
      ],
      "metadata": {
        "id": "a6vcOkqIv9wp"
      }
    },
    {
      "cell_type": "markdown",
      "source": [
        "O formato básico da RDFlib é um grafo não ordenado em triplas, desse modo eles podem pesquisar por triplas e retorná-las, em linguagem Python elas são tuplas de 3 itens. Um exemplo de inicialização de uma Ontologia é apresentado no código 1, onde cria-se os dados de uma entidade com base na Ontologia FOAF disponível online. \n"
      ],
      "metadata": {
        "id": "ooVOKXoNuwhm"
      }
    },
    {
      "cell_type": "markdown",
      "source": [
        "⠀⠀⠀"
      ],
      "metadata": {
        "id": "b_JRgOISy10l"
      }
    },
    {
      "cell_type": "code",
      "source": [
        "from rdflib import Graph, Literal, RDF, URIRef\n",
        "# rdflib possui nativamente diversos namespace como W3C ontologies, schema.org e etc.\n",
        "from rdflib.namespace import FOAF , XSD\n",
        "\n",
        "# Criando o Grafo\n",
        "g = Graph()\n",
        "\n",
        "# Criando o nó RDF URI que será usado para objeto de diversas triplas\n",
        "donna = URIRef(\"http://example.org/donna\")\n",
        "\n",
        "# Utilizando o método add() para adicionar as triplas\n",
        "g.add((donna, RDF.type, FOAF.Person))\n",
        "g.add((donna, FOAF.nick, Literal(\"donna\", lang=\"en\")))\n",
        "g.add((donna, FOAF.name, Literal(\"Donna Fales\")))\n",
        "g.add((donna, FOAF.mbox, URIRef(\"mailto:donna@example.org\")))\n",
        "\n",
        "# Imprimir o todo o Grafo no formato RDF Turtle\n",
        "print(g.serialize(format=\"turtle\"))\n",
        "\n",
        "\n",
        "# Alternativamente, é possível iterar as triplas e imprimi-las.\n",
        "for s, p, o in g:\n",
        "    print(f\"SUJEITO: {s}\\nPREDICADO: {p}\\nOBJETO: {o}\\n\\n\")\n",
        "\n",
        "\n",
        "\n"
      ],
      "metadata": {
        "id": "T2W2v2YMvpd_"
      },
      "execution_count": null,
      "outputs": []
    },
    {
      "cell_type": "markdown",
      "source": [
        "---\n",
        " Código 1: Método de Inicialização Manual de Ontologia\n",
        "\n",
        "---\n",
        "\n"
      ],
      "metadata": {
        "id": "Bx5ag3JAwRkq"
      }
    },
    {
      "cell_type": "markdown",
      "source": [
        "⠀⠀⠀"
      ],
      "metadata": {
        "id": "d9pxiwENy3dw"
      }
    },
    {
      "cell_type": "markdown",
      "source": [
        "\n",
        "\n",
        "Também é possível ler arquivos com Ontologias a partir da função rdflib.Graph.parse(), podendo ser de um arquivo na máquina ou dado remoto a partir de um URL. Também é possível salvar uma Ontologia atual com a função rdflib.Graph.serialize(), que aceita como argumentos destination, format, base e encoding.\n",
        "\n",
        "No código 2 faz a leitura de um arquivo no diretório atual, de um arquivo remoto e em seguida salva o segundo grafo lido no diretório atual em um arquivo xml.\n"
      ],
      "metadata": {
        "id": "l0dDvLJdwwT8"
      }
    },
    {
      "cell_type": "code",
      "source": [
        "from rdflib import Graph, Literal, RDF, URIRef\n",
        "\n",
        "#Leitura de um arquivo no diretório local no formato n-triple\n",
        "g = Graph()\n",
        "g.parse(\"exemplo.nt\")\n",
        "\n",
        "# Leitura de Grafos da Internet\n",
        "h = Graph()\n",
        "h.parse(\"https://raw.githubusercontent.com/nemo-ufes/doce/master/doce.ttl\", format=\"ttl\")\n",
        "\n",
        "#Salvando o grafo no diretório local\n",
        "g.serialize(destination=\"doce\", format=\"xml”)\n"
      ],
      "metadata": {
        "id": "l3y7-IZKw_Dr"
      },
      "execution_count": null,
      "outputs": []
    },
    {
      "cell_type": "markdown",
      "source": [
        "---\n",
        " Código 2: Leitura e Gravação de arquivos da Ontologia\n",
        "\n",
        "---"
      ],
      "metadata": {
        "id": "QJN8EfqfxHEG"
      }
    },
    {
      "cell_type": "markdown",
      "source": [
        "⠀⠀⠀"
      ],
      "metadata": {
        "id": "8MHYk482x2OO"
      }
    },
    {
      "cell_type": "markdown",
      "source": [
        "A biblioteca RDFLib permite o uso das triplas manipulando códigos em Python, permitindo automatizar inserções e também pesquisas a partir de um algoritmo complexo."
      ],
      "metadata": {
        "id": "lahV9JuvxVOM"
      }
    },
    {
      "cell_type": "markdown",
      "source": [
        "⠀⠀⠀"
      ],
      "metadata": {
        "id": "NxkzG4FYxvu0"
      }
    },
    {
      "cell_type": "markdown",
      "source": [
        "# Criando ontologias"
      ],
      "metadata": {
        "id": "7GJGKosrx8ja"
      }
    },
    {
      "cell_type": "markdown",
      "source": [
        "                                          # Criando ontologias\n",
        "                                      "
      ],
      "metadata": {
        "id": "8Mk7myt2yABz"
      }
    },
    {
      "cell_type": "markdown",
      "source": [
        "Quando cria-se uma ontologia com o RDFLib, pode-se atribuir um namespace, isto é, vincular os nomes de uma ontologia existente a um delimitador existente através de um prefixo. Esse vínculo é feito através da função rdflib.Graph.bind(prefix, namespace, override=True, replace=False), observe que o namespace pode ser um dos padrões carregados pela rdflib e que prefix é geralmente o nome do namespace.\n",
        "Observe que além de criar triplas é possível alterá-las e removê-las, para isso existem as funções rdflib.Graph.set(triple), da mesma forma que a função  rdflib.Graph.add(triple), e a função rdflib.Graph.remove(triple).\n"
      ],
      "metadata": {
        "id": "3q3bODIZyL0I"
      }
    },
    {
      "cell_type": "markdown",
      "source": [
        "⠀⠀⠀"
      ],
      "metadata": {
        "id": "xLSsNpQMyeTk"
      }
    },
    {
      "cell_type": "markdown",
      "source": [
        "# Navegando pelas triplas"
      ],
      "metadata": {
        "id": "m8G5KDmCyhRf"
      }
    },
    {
      "cell_type": "markdown",
      "source": [
        "                                          # Navegando pelas triplas"
      ],
      "metadata": {
        "id": "fHY0CJn0ypZB"
      }
    },
    {
      "cell_type": "markdown",
      "source": [
        "O RDFLib permite navegar por triplas específicas ao iterar por triplas de uma ontologia. Desse modo, é possível usar coringas, variáveis do tipo “None”, e termos específicos, permitindo que a busca seja realizada somente nas triplas que contêm esse nome na posição passada na função. O código 1 exemplifica esse uso utilizando uma ontologia da W3C que organiza pessoas da empresa.\n"
      ],
      "metadata": {
        "id": "PUAphDwIytwf"
      }
    },
    {
      "cell_type": "markdown",
      "source": [
        "⠀⠀⠀"
      ],
      "metadata": {
        "id": "lLzFlGXjyztV"
      }
    },
    {
      "cell_type": "code",
      "source": [
        "# importar e carregar o gráfico a partir da internet\n",
        "from RDFlib import Graph\n",
        "from rdflib.namespace import FOAF\n",
        "\n",
        "# criando grafo\n",
        "g = Graph()\n",
        "g.parse(\"http://www.w3.org/People/Berners-Lee/card\")\n",
        "\n",
        "# encontrar todos sujeitos do tipo pessoa\n",
        "for s, p, o in g.triples((None, RDF.type, FOAF.Person)):\n",
        "    print(f\"{s} is a person\")\n",
        "\n"
      ],
      "metadata": {
        "id": "jlh6BpQ1y9-p"
      },
      "execution_count": null,
      "outputs": []
    },
    {
      "cell_type": "markdown",
      "source": [
        "---\n",
        "  Código 1: Método Triples\n",
        "\n",
        "---"
      ],
      "metadata": {
        "id": "ePBVNWIgy_zs"
      }
    },
    {
      "cell_type": "markdown",
      "source": [
        "⠀⠀⠀"
      ],
      "metadata": {
        "id": "9Fp4riTHzIQ7"
      }
    },
    {
      "cell_type": "markdown",
      "source": [
        "O código usa o método Graph.triples para criar o grupo de triplas no qual será iterado a pesquisa. Desse modo é possível pesquisar em uma união de conjuntos através de uma iteração, especificada por um caminho ou um dos Nós do grafo.\n",
        "Para procurar em um nó de uma URI passada para a ontologia, o método utilizado como em FOAF.Person não é possível de forma direta. Suponha que queremos procurar os sujeitos da classe River, para isso é preciso definir um auxiliar pertencente ao namespace doce e definir uma referência URI para essa classe. Desse modo, o mesmo iterador do código 1 ficaria como no código 2 para a classe River da ontologia doce.\n"
      ],
      "metadata": {
        "id": "N0QebHZfzLHR"
      }
    },
    {
      "cell_type": "markdown",
      "source": [
        "⠀⠀⠀"
      ],
      "metadata": {
        "id": "QYodUooWzUbM"
      }
    },
    {
      "cell_type": "code",
      "source": [
        "from rdflib import Namespace, Graph,, URIRef\n",
        "from rdflib.namespace import RDF\n",
        "\n",
        "# criando grafo\n",
        "g = Graph()\n",
        "onto = g.parse(\"https://raw.githubusercontent.com/nemo-ufes/doce/master/doce.ttl\", format=\"ttl\");\n",
        "\n",
        "# criando Namespace\n",
        "doce = URIRef(“http://purl.org/nemo/doce#”)\n",
        "DOCE = Namespace(doce)\n",
        "\n",
        "# relações em que sujeito é do tipo River\n",
        "for s, p, o in g.triples((None, RDF.type, DOCE.River)):\n",
        "    print(f\"\\n< {s} >, < {p} >, < {o} >\\n\")\n",
        "\n"
      ],
      "metadata": {
        "id": "MvLgMjvSzW-j"
      },
      "execution_count": null,
      "outputs": []
    },
    {
      "cell_type": "markdown",
      "source": [
        "---\n",
        "  Código 2: Método de Busca em namespace não comuns\n",
        "\n",
        "---"
      ],
      "metadata": {
        "id": "gLmfBZ61zY8u"
      }
    },
    {
      "cell_type": "markdown",
      "source": [
        "⠀⠀⠀"
      ],
      "metadata": {
        "id": "qEPzH4DmzdoQ"
      }
    },
    {
      "cell_type": "markdown",
      "source": [
        "Desse modo é possível procurar por um atributo representado por um nó ou mesmo um tipo de relação, representada por uma aresta do grafo. A diferença fundamental entre o código 1 e o código 2 é a origem da ontologia, sendo o primeiro tipo de consulta no primeiro código importante para processamento de informações lógicas."
      ],
      "metadata": {
        "id": "Q2WBOgy_zfo2"
      }
    },
    {
      "cell_type": "markdown",
      "source": [
        "# Carregando a integradoce"
      ],
      "metadata": {
        "id": "Ks1XeXT7zpwt"
      }
    },
    {
      "cell_type": "markdown",
      "source": [
        "                                          # Carregando a integradoce\n",
        "                                          "
      ],
      "metadata": {
        "id": "4ZmpPnw9zvhC"
      }
    },
    {
      "cell_type": "markdown",
      "source": [
        "O Código 1 apresenta o carregamento do turtle através do método por repositório local."
      ],
      "metadata": {
        "id": "zhMMlJ7_zx-y"
      }
    },
    {
      "cell_type": "markdown",
      "source": [
        "⠀⠀⠀"
      ],
      "metadata": {
        "id": "ZeOsIRxY0EoE"
      }
    },
    {
      "cell_type": "code",
      "source": [
        "from rdflib import Graph \n",
        "\n",
        "# carregando grafo\n",
        "doceTriple = Graph()\n",
        "exampleTriple = Graph()\n",
        "\n",
        "# carregando no grafo\n",
        "doceResult = doceTriple.parse(\"http://purl.org/nemo/doce\", format=\"ttl\")\n",
        "exampleResult = exampleTriple.parse(\"transformed_integrado.ttl\", format=\"ttl\")\n",
        "\n"
      ],
      "metadata": {
        "id": "rRJzvbJa0HeS"
      },
      "execution_count": null,
      "outputs": []
    },
    {
      "cell_type": "markdown",
      "source": [
        "---\n",
        "  Código 1: Método de carregamento de ontologia em armazenamento\n",
        "\n",
        "---"
      ],
      "metadata": {
        "id": "a8AGmhyE0LUQ"
      }
    },
    {
      "cell_type": "markdown",
      "source": [
        "⠀⠀⠀"
      ],
      "metadata": {
        "id": "afWPx_CP0YZ6"
      }
    },
    {
      "cell_type": "markdown",
      "source": [
        "O Código 1 carrega primeiro a ontologia doce a partir do repositório da ontologia e em seguida carrega os dados da “integradoce.ttl”. É necessário que o carregamento dela seja feito através de um arquivo local."
      ],
      "metadata": {
        "id": "NoBqe-lF0du2"
      }
    },
    {
      "cell_type": "markdown",
      "source": [
        "# Obtendo dados na integradoce"
      ],
      "metadata": {
        "id": "8mFn6OMA0xMk"
      }
    },
    {
      "cell_type": "markdown",
      "source": [
        "                                          # Obtendo dados na integradoce"
      ],
      "metadata": {
        "id": "QHmbr5vx04Ki"
      }
    },
    {
      "cell_type": "code",
      "source": [
        "# processamento da biblioteca de ontologias\n",
        "from rdflib import Graph, Literal, RDF, URIRef, OWL\n",
        "\n",
        "# carregamento da ontologia\n",
        "doceTriple = Graph()\n",
        "doceTriple.parse(\"http://purl.org/nemo/doce\", format=\"ttl\")\n",
        "\n",
        "# criar sub tripla de tipos\n",
        "savedTriple = Graph()\n",
        "savedTriple += doceResult.triples((None, None, OWL.Class))\n",
        "\n",
        "# Gravar nova sub Tripla\n",
        "savedTriple.serialize(destination=\"docetypes.ttl\")\n"
      ],
      "metadata": {
        "id": "hx5yXyTj1KvO"
      },
      "execution_count": null,
      "outputs": []
    },
    {
      "cell_type": "markdown",
      "source": [
        "---\n",
        "  Figura 1 ─ Código de armazenamento de classes\n",
        "\n",
        "---"
      ],
      "metadata": {
        "id": "LQOQlwNx1QUi"
      }
    },
    {
      "cell_type": "markdown",
      "source": [
        "⠀⠀⠀"
      ],
      "metadata": {
        "id": "R_8n6n0P1V8e"
      }
    }
  ]
}