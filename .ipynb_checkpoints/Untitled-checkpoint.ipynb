{
 "cells": [
  {
   "cell_type": "code",
   "execution_count": 7,
   "id": "75dd3634",
   "metadata": {},
   "outputs": [
    {
     "name": "stdout",
     "output_type": "stream",
     "text": [
      "Localizações: \n",
      "____________________________________________\n"
     ]
    },
    {
     "ename": "UnboundLocalError",
     "evalue": "local variable 'lat' referenced before assignment",
     "output_type": "error",
     "traceback": [
      "\u001b[1;31m---------------------------------------------------------------------------\u001b[0m",
      "\u001b[1;31mUnboundLocalError\u001b[0m                         Traceback (most recent call last)",
      "Input \u001b[1;32mIn [7]\u001b[0m, in \u001b[0;36m<cell line: 33>\u001b[1;34m()\u001b[0m\n\u001b[0;32m     29\u001b[0m DOCE \u001b[38;5;241m=\u001b[39m Namespace(doce)\n\u001b[0;32m     31\u001b[0m \u001b[38;5;66;03m# testar identificação dos pontos de coleta e em seguida inserir\u001b[39;00m\n\u001b[0;32m     32\u001b[0m \u001b[38;5;66;03m# ponto a ser pesquisada, exaramente como rotulada\u001b[39;00m\n\u001b[1;32m---> 33\u001b[0m \u001b[43mlocalizacoes\u001b[49m\u001b[43m(\u001b[49m\u001b[43m)\u001b[49m\n\u001b[0;32m     35\u001b[0m \u001b[38;5;28mprint\u001b[39m(\u001b[38;5;124m\"\u001b[39m\u001b[38;5;124m____________________________________________\u001b[39m\u001b[38;5;124m\"\u001b[39m)\n\u001b[0;32m     36\u001b[0m search \u001b[38;5;241m=\u001b[39m \u001b[38;5;28mstr\u001b[39m(\u001b[38;5;28minput\u001b[39m(\u001b[38;5;124m\"\u001b[39m\u001b[38;5;124mDigite a cidade: \u001b[39m\u001b[38;5;124m\"\u001b[39m))\n",
      "Input \u001b[1;32mIn [7]\u001b[0m, in \u001b[0;36mlocalizacoes\u001b[1;34m()\u001b[0m\n\u001b[0;32m     17\u001b[0m \u001b[38;5;28;01mfor\u001b[39;00m s2, p2, o2 \u001b[38;5;129;01min\u001b[39;00m exampleTriple\u001b[38;5;241m.\u001b[39mtriples((s1, GEO\u001b[38;5;241m.\u001b[39mlong, \u001b[38;5;28;01mNone\u001b[39;00m)) : \n\u001b[0;32m     18\u001b[0m     lon \u001b[38;5;241m=\u001b[39m o2\n\u001b[1;32m---> 19\u001b[0m \u001b[38;5;28mprint\u001b[39m(\u001b[38;5;124mf\u001b[39m\u001b[38;5;124m\"\u001b[39m\u001b[38;5;130;01m\\n\u001b[39;00m\u001b[38;5;124mIdentificação: \u001b[39m\u001b[38;5;132;01m{\u001b[39;00mlabelP\u001b[38;5;132;01m}\u001b[39;00m\u001b[38;5;130;01m\\n\u001b[39;00m\u001b[38;5;124mPonto de Coleta: \u001b[39m\u001b[38;5;132;01m{\u001b[39;00mlat\u001b[38;5;132;01m}\u001b[39;00m\u001b[38;5;124m, \u001b[39m\u001b[38;5;132;01m{\u001b[39;00mlon\u001b[38;5;132;01m}\u001b[39;00m\u001b[38;5;124m\"\u001b[39m)\n",
      "\u001b[1;31mUnboundLocalError\u001b[0m: local variable 'lat' referenced before assignment"
     ]
    }
   ],
   "source": [
    "## Pesquisa por Localização III\n",
    "\n",
    "from rdflib import Graph, Literal, RDF, RDFS, URIRef, OWL, Namespace\n",
    "\n",
    "def localizacoes() :\n",
    "    lat = 0\n",
    "    lon = 0\n",
    "    print(\"Localizações: \")\n",
    "    for s1, p1, o1 in exampleTriple.triples((None, None, DOCE.GeographicPoint)) :\n",
    "        print(\"____________________________________________\")\n",
    "        for s2, p2, o2 in exampleTriple.triples((s1, RDFS.label, None)) :\n",
    "            labelP = str(o2)\n",
    "        for s2, p2, o2 in exampleTriple.triples((s1, GEO.lat, None)) :\n",
    "            lat = o2\n",
    "        for s2, p2, o2 in exampleTriple.triples((s1, GEO.long, None)) : \n",
    "            lon = o2\n",
    "        print(f\"\\nIdentificação: {labelP}\\nPonto de Coleta: {lat}, {lon}\")\n",
    "\n",
    "# criar e carregar grafos\n",
    "exampleTriple = Graph()\n",
    "exampleTriple.parse(\"unespInst.ttl\", format = \"ttl\")\n",
    "geo = URIRef(\"http://www.opengis.net/ont/geosparql#\")\n",
    "GEO = Namespace(geo)\n",
    "\n",
    "# criar os namespace\n",
    "doce = URIRef(\"http://purl.org/nemo/doce#\")\n",
    "DOCE = Namespace(doce)\n",
    "\n",
    "# testar identificação dos pontos de coleta e em seguida inserir\n",
    "# ponto a ser pesquisada, exaramente como rotulada\n",
    "localizacoes()\n",
    "          \n",
    "print(\"____________________________________________\")\n",
    "search = str(input(\"Digite a cidade: \"))\n",
    "                   \n",
    "# procurar cidode de acordo com sua idetificação\n",
    "flag = 1\n",
    "\n",
    "lat = 0\n",
    "lon = 0\n",
    "\n",
    "for s1, p1, o1 in exampleTriple.triples((None, RDFS.label, None)) :\n",
    "    if search in str(o1) :\n",
    "        print(f\"\\nCidade: {o1}\")\n",
    "        flag = 0\n",
    "        for s2, p2, o2 in exampleTriple.triples((s1, None, None)) :\n",
    "            if p2 == RDFS.comment :\n",
    "                com = o2\n",
    "            if p2 == GEO.lat :\n",
    "                lat = o2\n",
    "            if p2 == GEO.long :\n",
    "                lon = o2\n",
    "                \n",
    "        print(f\"\\n{com}\\nLocalização: {lat}, {lon}\\n\")\n",
    "        print(\"AMOSTRAS:\\n\")\n",
    "        \n",
    "        i = 1\n",
    "        for s2, p2, o2 in exampleTriple.triples((None, DOCE.locatedIn, s1)) :\n",
    "            for s3, p3, o2 in exampleTriple.triples((s2, RDF.type, DOCE.Measurement)) :\n",
    "                samp = str(s3)\n",
    "                samp = samp.replace(str(DOCEEX),\"\")\n",
    "                print(f\"0{i}: {samp}\")\n",
    "                i+=1\n",
    "        \n",
    "if flag :\n",
    "    print(\"\\nNão foram encontrados resultados\")"
   ]
  },
  {
   "cell_type": "code",
   "execution_count": null,
   "id": "deecfe17",
   "metadata": {},
   "outputs": [],
   "source": []
  },
  {
   "cell_type": "code",
   "execution_count": null,
   "id": "3dae05b2",
   "metadata": {
    "collapsed": true
   },
   "outputs": [],
   "source": []
  },
  {
   "cell_type": "code",
   "execution_count": null,
   "id": "30889411",
   "metadata": {},
   "outputs": [],
   "source": []
  }
 ],
 "metadata": {
  "kernelspec": {
   "display_name": "Python 3 (ipykernel)",
   "language": "python",
   "name": "python3"
  },
  "language_info": {
   "codemirror_mode": {
    "name": "ipython",
    "version": 3
   },
   "file_extension": ".py",
   "mimetype": "text/x-python",
   "name": "python",
   "nbconvert_exporter": "python",
   "pygments_lexer": "ipython3",
   "version": "3.10.3"
  }
 },
 "nbformat": 4,
 "nbformat_minor": 5
}
